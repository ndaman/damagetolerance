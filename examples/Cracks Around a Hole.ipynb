{
 "cells": [
  {
   "cell_type": "markdown",
   "metadata": {},
   "source": [
    "## Case 1 - Symmetric through cracks\n",
    "\n",
    "We use the equations in 2.11. Since there is no bearing streass, $\\beta_2 = 0$.\n",
    "\n",
    "Before substuting values, we check the value of $N$"
   ]
  },
  {
   "cell_type": "code",
   "execution_count": 2,
   "metadata": {},
   "outputs": [
    {
     "name": "stdout",
     "output_type": "stream",
     "text": [
      "4.5\n"
     ]
    }
   ],
   "source": [
    "import numpy as np\n",
    "c = 0.08 #in\n",
    "D = 0.375 \n",
    "r = D/2\n",
    "W = 5.0 \n",
    "t = 0.125\n",
    "if W/D + 2.5 < 2:\n",
    "    N = W/D + 2.5\n",
    "else:\n",
    "    N = 4.5\n",
    "print(N)"
   ]
  },
  {
   "cell_type": "markdown",
   "metadata": {},
   "source": [
    "In this case W/D = 13.3, so we use $N=4.5$"
   ]
  },
  {
   "cell_type": "code",
   "execution_count": null,
   "metadata": {},
   "outputs": [],
   "source": [
    "F_cr = (3.404+3.8172*c/r)/(1+3.9273*c/r-0.00695*(c/r)**2)\n",
    "F_w = np.sqrt(1/np.cos(np.pi*r/W)/np.cos(np.pi*(r+c)/W))\n",
    "F_ww = 1- ((1.32*W/D-0.14)**(-(.98+(.1*W/D)**0.1))-.02)*(2*c/(W-D))**N\n",
    "#F_3 not needed since beta_2 = 0\n",
    "beta = F_cr*F_w*F_ww\n",
    "print \"beta = %.3f\" % beta\n",
    "s = 5000/(t*W) #lb/in^2\n",
    "K_I1 = s*np.sqrt(np.pi*c)*beta\n",
    "print \"K_I = %.3f\" % K_I1"
   ]
  },
  {
   "cell_type": "markdown",
   "metadata": {},
   "source": [
    "So for case I we have $K_I = 7.63 \\text{ksi } \\sqrt{\\text{in}}$"
   ]
  },
  {
   "cell_type": "markdown",
   "metadata": {},
   "source": [
    "## Case 2 - Single through crack\n",
    "\n",
    "We use 2.12, once again $\\beta_2$ may be omitted since there is no bearing stress\n",
    "We check N first."
   ]
  },
  {
   "cell_type": "code",
   "execution_count": null,
   "metadata": {},
   "outputs": [],
   "source": [
    "N = 2.65 - 0.24*(2.75-W/D)**2\n",
    "print N\n",
    "if N < 2.275:\n",
    "    N = 2.275\n",
    "print N"
   ]
  },
  {
   "cell_type": "markdown",
   "metadata": {},
   "source": [
    "The original expression would give $N=-24.23$, which is less than 2.275, so we let $N=2.275$"
   ]
  },
  {
   "cell_type": "code",
   "execution_count": null,
   "metadata": {},
   "outputs": [],
   "source": [
    "beta_3 = 0.7071 + 0.7548*r/(r+c) + 0.3415*(r/(r+c))**2 + 0.6420*(r/(r+c))**3 + 0.9196*(r/(r+c))**4\n",
    "F_w = np.sqrt(1/np.cos(np.pi*r/W)/np.cos(np.pi*(r+c/2)/(W-c)))\n",
    "F_ww = 1- N**(-W/D)*(2*c/(W-D))**(-W/D)*(2*c/(W-D))**(W/D+.5)\n",
    "#F_4 not needed since beta_2 = 0\n",
    "beta = beta_3 * F_w * F_ww\n",
    "print \"beta = %.3f\" % beta\n",
    "K_I2 = s*np.sqrt(np.pi*c)*beta\n",
    "print \"K_I = %.3f\" % K_I2"
   ]
  },
  {
   "cell_type": "markdown",
   "metadata": {},
   "source": [
    "For case 2 we have $K_I = 7.47 \\text{ksi } \\sqrt{\\text{in}}$, notice that this a higher stress intensity than for two cracks"
   ]
  },
  {
   "cell_type": "markdown",
   "metadata": {},
   "source": [
    "## Case 3 - Symmetric corner cracks\n",
    "\n",
    "For corner cracks around a hole we use 3.1, with $a/c \\le 1$ we will use 3.1g-3.1n (instead of 3.1o-v). Since we have symmetric cracks, we use $n=2$"
   ]
  },
  {
   "cell_type": "code",
   "execution_count": null,
   "metadata": {},
   "outputs": [],
   "source": [
    "a = 0.02\n",
    "n = 2\n",
    "b = W/2\n",
    "phi = np.linspace(0,np.pi/2)\n",
    "f_w = np.sqrt(1/np.cos(np.pi*r/(2*b))/np.cos(np.pi*(2*r+n*c)/(4*(b-c)+2*n*c)*np.sqrt(a/t)))\n",
    "lam = 1.0/(1.0+(c/r)*np.cos(0.85*phi))\n",
    "g_2 = (1+.358*lam+1.425*lam**2-1.578*lam**3+2.156*lam**4)/(1+.13*lam**2)\n",
    "M_1 = 1.13 - 0.09*a/c\n",
    "M_2 = -0.54 + 0.89/(0.2+a/c)\n",
    "M_3 = 0.5 - 1/(0.65+a/c) + 14*(1-a/c)**24\n",
    "Q = 1 + 1.464*(a/c)**1.65\n",
    "g_1 = 1+ (0.1+0.35*(a/t)**2)*(1-np.sin(phi))**2\n",
    "g_3 = (1+0.04*(a/c))*(1+0.1*(1-np.cos(phi))**2)*(0.85+0.15*(a/t)**.25)\n",
    "g_4 = 1-0.7*(1-a/t)*(a/c-0.2)*(1-a/c)\n",
    "f_phi = ((a/c)**2*np.cos(phi)**2+np.sin(phi)**2)**.25\n",
    "F_ch = (M_1 + M_2*(a/t)**2 + M_3*(a/t)**4)*g_1*g_2*g_3*g_4*f_phi*f_w\n",
    "beta = np.sqrt(1/Q)*F_ch\n",
    "K_I3 = s*np.sqrt(np.pi*a)*beta"
   ]
  },
  {
   "cell_type": "markdown",
   "metadata": {},
   "source": [
    "Here we have left $\\phi$ variable $0<\\phi<\\pi/2$, so we plot the stress intensity for varying $\\phi$"
   ]
  },
  {
   "cell_type": "code",
   "execution_count": null,
   "metadata": {},
   "outputs": [],
   "source": [
    "from matplotlib import pyplot as plt\n",
    "#optional, for prettier default color scheme\n",
    "import seaborn as sb\n",
    "#make fonts bigger\n",
    "sb.set(font_scale=1.5)\n",
    "#only needed for \"live notebooks\" such as this demo\n",
    "%matplotlib inline\n",
    "fig = plt.figure(figsize=(12,6))\n",
    "plt.plot(phi*180/np.pi,K_I3/1000)\n",
    "plt.xlabel(r'$\\phi (^\\circ)$')\n",
    "plt.ylabel(r'$K_I$ ksi in.$^{1/2}$')\n",
    "print \"K_I = %.3f\" % K_I3[-1]"
   ]
  },
  {
   "cell_type": "markdown",
   "metadata": {},
   "source": [
    "The maximum $K_I$ would occur at $\\phi = \\pi/2$, $K_I = 5.56 \\text{ksi } \\sqrt{\\text{in}}$"
   ]
  },
  {
   "cell_type": "markdown",
   "metadata": {},
   "source": [
    "## Case 4 - Single corner crack\n",
    "For a single corner crack, we can use the same equations as above, with $n=1$, then we will add the correction factor in (3.2)"
   ]
  },
  {
   "cell_type": "code",
   "execution_count": null,
   "metadata": {},
   "outputs": [],
   "source": [
    "a = 0.02\n",
    "n = 1\n",
    "b = W/2\n",
    "phi = np.linspace(0,np.pi/2)\n",
    "f_w = np.sqrt(1/np.cos(np.pi*r/(2*b))/np.cos(np.pi*(2*r+n*c)/(4*(b-c)+2*n*c)*np.sqrt(a/t)))\n",
    "lam = 1.0/(1.0+(c/r)*np.cos(0.85*phi))\n",
    "g_2 = (1+.358*lam+1.425*lam**2-1.578*lam**3+2.156*lam**4)/(1+.13*lam**2)\n",
    "M_1 = 1.13 - 0.09*a/c\n",
    "M_2 = -0.54 + 0.89/(0.2+a/c)\n",
    "M_3 = 0.5 - 1/(0.65+a/c) + 14*(1-a/c)**24\n",
    "Q = 1 + 1.464*(a/c)**1.65\n",
    "g_1 = 1+ (0.1+0.35*(a/t)**2)*(1-np.sin(phi))**2\n",
    "g_3 = (1+0.04*(a/c))*(1+0.1*(1-np.cos(phi))**2)*(0.85+0.15*(a/t)**.25)\n",
    "g_4 = 1-0.7*(1-a/t)*(a/c-0.2)*(1-a/c)\n",
    "f_phi = ((a/c)**2*np.cos(phi)**2+np.sin(phi)**2)**.25\n",
    "F_ch = (M_1 + M_2*(a/t)**2 + M_3*(a/t)**4)*g_1*g_2*g_3*g_4*f_phi*f_w\n",
    "beta = np.sqrt(1/Q)*F_ch\n",
    "K_Isymm = s*np.sqrt(np.pi*a)*beta\n",
    "K_I4 = np.sqrt((4/np.pi + a*c/2/t/r)/(4/np.pi + a*c/t/r))*K_Isymm"
   ]
  },
  {
   "cell_type": "markdown",
   "metadata": {},
   "source": [
    "We can add this to the plot and compare max values"
   ]
  },
  {
   "cell_type": "code",
   "execution_count": null,
   "metadata": {},
   "outputs": [],
   "source": [
    "fig = plt.figure(figsize=(12,6))\n",
    "plt.plot(phi*180/np.pi,K_I3/1000,label='symmetric cracks')\n",
    "plt.plot(phi*180/np.pi,K_I4/1000,label='single crack')\n",
    "plt.legend(loc='best')\n",
    "plt.xlabel(r'$\\phi (^\\circ)$')\n",
    "plt.ylabel(r'$K_I$ ksi in.$^{1/2}$')\n",
    "print \"K_I = %.3f\" % K_I4[-1]"
   ]
  },
  {
   "cell_type": "markdown",
   "metadata": {},
   "source": [
    "We see that the single crack has only a moderately lower stress intensity factor, with a max value of $K_I = 5.49 \\text{ksi } \\sqrt{\\text{in}}$"
   ]
  },
  {
   "cell_type": "markdown",
   "metadata": {},
   "source": [
    "## Case 5 - Symmetric surface cracks\n",
    "\n",
    "For symmetric surface cracks, we use (3.3) with $a/c < 1$"
   ]
  },
  {
   "cell_type": "code",
   "execution_count": null,
   "metadata": {},
   "outputs": [],
   "source": [
    "n=2\n",
    "f_w = np.sqrt(1/np.cos(np.pi*r/(2*b))/np.cos(np.pi*(2*r+n*c)/(4*(b-c)+2*n*c)*np.sqrt(a/t)))\n",
    "g_1 = 1-((a/t)**4*(2.6-2*a/t)**.5)/(1+4*a/c)*np.cos(phi)\n",
    "lam = 1.0/(1.0+(c/r)*np.cos(0.9*phi))\n",
    "g_2 = (1+.358*lam+1.425*lam**2-1.578*lam**3+2.156*lam**4)/(1+.08*lam**2)\n",
    "g_3 = 1 + 0.1*(1-np.cos(phi))**2*(1-a/t)**10\n",
    "Q = 1+1.464*(a/c)**1.65\n",
    "M_1 = 1\n",
    "M_2 = 0.05/(0.11+(a/c)**(1.5))\n",
    "M_3 = 0.29/(0.23+(a/c)**1.5)\n",
    "f_phi = ((a/c)**2*np.cos(phi)**2+np.sin(phi)**2)**.25\n",
    "F_sh = (M_1 + M_2*(a/t)**2 + M_3*(a/t)**4)*g_1*g_2*g_3*f_phi*f_w\n",
    "beta = np.sqrt(1/Q)*F_sh\n",
    "K_I5 = s*np.sqrt(np.pi*a)*beta\n",
    "print \"K_I = %.3f\" % K_I5[-1]"
   ]
  },
  {
   "cell_type": "markdown",
   "metadata": {},
   "source": [
    "The maximum stress intensity factor in this case is $K_I = 5.31 \\text{ksi } \\sqrt{\\text{in}}$"
   ]
  },
  {
   "cell_type": "markdown",
   "metadata": {},
   "source": [
    "## Case 6 - Single surface crack\n",
    "\n",
    "We handle a single surface crack the same way as a single corner crack, using $n=1$ and a correction factor (3.4)"
   ]
  },
  {
   "cell_type": "code",
   "execution_count": null,
   "metadata": {},
   "outputs": [],
   "source": [
    "n=1\n",
    "f_w = np.sqrt(1/np.cos(np.pi*r/(2*b))/np.cos(np.pi*(2*r+n*c)/(4*(b-c)+2*n*c)*np.sqrt(a/t)))\n",
    "g_1 = 1-((a/t)**4*(2.6-2*a/t)**.5)/(1+4*a/c)*np.cos(phi)\n",
    "lam = 1.0/(1.0+(c/r)*np.cos(0.9*phi))\n",
    "g_2 = (1+.358*lam+1.425*lam**2-1.578*lam**3+2.156*lam**4)/(1+.08*lam**2)\n",
    "g_3 = 1 + 0.1*(1-np.cos(phi))**2*(1-a/t)**10\n",
    "Q = 1+1.464*(a/c)**1.65\n",
    "M_1 = 1\n",
    "M_2 = 0.05/(0.11+(a/c)**(1.5))\n",
    "M_3 = 0.29/(0.23+(a/c)**1.5)\n",
    "f_phi = ((a/c)**2*np.cos(phi)**2+np.sin(phi)**2)**.25\n",
    "F_sh = (M_1 + M_2*(a/t)**2 + M_3*(a/t)**4)*g_1*g_2*g_3*f_phi*f_w\n",
    "beta = np.sqrt(1/Q)*F_sh\n",
    "K_Isymm = s*np.sqrt(np.pi*a)*beta\n",
    "K_I6 = np.sqrt((4/np.pi + a*c/2/t/r)/(4/np.pi + a*c/t/r))*K_Isymm\n",
    "print \"K_I = %.3f\" % K_I6[-1]"
   ]
  },
  {
   "cell_type": "markdown",
   "metadata": {},
   "source": [
    "The maximum stress intensity factor in this case is $K_I = 5.24 \\text{ksi } \\sqrt{\\text{in}}$"
   ]
  },
  {
   "cell_type": "code",
   "execution_count": null,
   "metadata": {},
   "outputs": [],
   "source": [
    "fig = plt.figure(figsize=(12,6))\n",
    "plt.plot(phi*180/np.pi,np.ones(len(phi))*K_I1/1000,label='symmetric through cracks')\n",
    "plt.plot(phi*180/np.pi,np.ones(len(phi))*K_I2/1000,label='single through crack')\n",
    "plt.plot(phi*180/np.pi,K_I3/1000,label='symmetric corner cracks')\n",
    "plt.plot(phi*180/np.pi,K_I4/1000,label='single corner crack')\n",
    "plt.plot(phi*180/np.pi,K_I5/1000,label='symmetric surface cracks')\n",
    "plt.plot(phi*180/np.pi,K_I6/1000,label='single surface crack')\n",
    "plt.legend(loc='best')\n",
    "plt.xlabel(r'$\\phi (^\\circ)$')\n",
    "plt.ylabel(r'$K_I$ ksi in.$^{1/2}$')\n",
    "print \"K_I = %.3f\" % K_I4[-1]"
   ]
  },
  {
   "cell_type": "code",
   "execution_count": null,
   "metadata": {},
   "outputs": [],
   "source": []
  }
 ],
 "metadata": {
  "kernelspec": {
   "display_name": "Python 3",
   "language": "python",
   "name": "python3"
  },
  "language_info": {
   "codemirror_mode": {
    "name": "ipython",
    "version": 3
   },
   "file_extension": ".py",
   "mimetype": "text/x-python",
   "name": "python",
   "nbconvert_exporter": "python",
   "pygments_lexer": "ipython3",
   "version": "3.7.3"
  }
 },
 "nbformat": 4,
 "nbformat_minor": 1
}
