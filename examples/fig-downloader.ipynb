{
 "cells": [
  {
   "cell_type": "markdown",
   "metadata": {},
   "source": [
    "## Download data from plot.ly and save it locally\n",
    "\n",
    "This code will download the compounding figures previously saved to plot.ly so they are locally accessible via the Python module pickle."
   ]
  },
  {
   "cell_type": "code",
   "execution_count": 1,
   "metadata": {},
   "outputs": [
    {
     "ename": "ImportError",
     "evalue": "\nThe plotly.plotly module is deprecated,\nplease install the chart-studio package and use the\nchart_studio.plotly module instead. \n",
     "output_type": "error",
     "traceback": [
      "\u001b[1;31m---------------------------------------------------------------------------\u001b[0m",
      "\u001b[1;31mImportError\u001b[0m                               Traceback (most recent call last)",
      "\u001b[1;32m<ipython-input-1-9a94ff6c3d67>\u001b[0m in \u001b[0;36m<module>\u001b[1;34m\u001b[0m\n\u001b[0;32m      1\u001b[0m \u001b[1;32mimport\u001b[0m \u001b[0mpickle\u001b[0m \u001b[1;31m#this module will save the data to be loaded later\u001b[0m\u001b[1;33m\u001b[0m\u001b[1;33m\u001b[0m\u001b[0m\n\u001b[1;32m----> 2\u001b[1;33m \u001b[1;32mimport\u001b[0m \u001b[0mplotly\u001b[0m\u001b[1;33m.\u001b[0m\u001b[0mplotly\u001b[0m \u001b[1;32mas\u001b[0m \u001b[0mpy\u001b[0m \u001b[1;31m#connect to plot.ly to download the data\u001b[0m\u001b[1;33m\u001b[0m\u001b[1;33m\u001b[0m\u001b[0m\n\u001b[0m",
      "\u001b[1;32mC:\\ProgramData\\Miniconda3\\lib\\site-packages\\plotly\\plotly\\__init__.py\u001b[0m in \u001b[0;36m<module>\u001b[1;34m\u001b[0m\n\u001b[0;32m      2\u001b[0m \u001b[1;32mfrom\u001b[0m \u001b[0m_plotly_future_\u001b[0m \u001b[1;32mimport\u001b[0m \u001b[0m_chart_studio_error\u001b[0m\u001b[1;33m\u001b[0m\u001b[1;33m\u001b[0m\u001b[0m\n\u001b[0;32m      3\u001b[0m \u001b[1;33m\u001b[0m\u001b[0m\n\u001b[1;32m----> 4\u001b[1;33m \u001b[0m_chart_studio_error\u001b[0m\u001b[1;33m(\u001b[0m\u001b[1;34m\"plotly\"\u001b[0m\u001b[1;33m)\u001b[0m\u001b[1;33m\u001b[0m\u001b[1;33m\u001b[0m\u001b[0m\n\u001b[0m",
      "\u001b[1;32mC:\\ProgramData\\Miniconda3\\lib\\site-packages\\_plotly_future_\\__init__.py\u001b[0m in \u001b[0;36m_chart_studio_error\u001b[1;34m(submodule)\u001b[0m\n\u001b[0;32m     47\u001b[0m \u001b[0mchart_studio\u001b[0m\u001b[1;33m.\u001b[0m\u001b[1;33m{\u001b[0m\u001b[0msubmodule\u001b[0m\u001b[1;33m}\u001b[0m \u001b[0mmodule\u001b[0m \u001b[0minstead\u001b[0m\u001b[1;33m.\u001b[0m\u001b[1;33m\u001b[0m\u001b[1;33m\u001b[0m\u001b[0m\n\u001b[0;32m     48\u001b[0m \"\"\".format(\n\u001b[1;32m---> 49\u001b[1;33m             \u001b[0msubmodule\u001b[0m\u001b[1;33m=\u001b[0m\u001b[0msubmodule\u001b[0m\u001b[1;33m\u001b[0m\u001b[1;33m\u001b[0m\u001b[0m\n\u001b[0m\u001b[0;32m     50\u001b[0m         )\n\u001b[0;32m     51\u001b[0m     )\n",
      "\u001b[1;31mImportError\u001b[0m: \nThe plotly.plotly module is deprecated,\nplease install the chart-studio package and use the\nchart_studio.plotly module instead. \n"
     ]
    }
   ],
   "source": [
    "import pickle #this module will save the data to be loaded later\n",
    "import plotly.plotly as py #connect to plot.ly to download the data"
   ]
  },
  {
   "cell_type": "code",
   "execution_count": 2,
   "metadata": {
    "collapsed": true
   },
   "outputs": [],
   "source": [
    "#download compounding figures\n",
    "fig1 = py.get_figure('https://plot.ly/~ndaman/56', raw=True)\n",
    "fig2 = py.get_figure('https://plot.ly/~ndaman/54', raw=True)\n",
    "fig3 = py.get_figure('https://plot.ly/~ndaman/50', raw=True)\n",
    "fig4 = py.get_figure('https://plot.ly/~ndaman/52', raw=True)"
   ]
  },
  {
   "cell_type": "code",
   "execution_count": 7,
   "metadata": {},
   "outputs": [],
   "source": [
    "fig = [fig1, fig2, fig3, fig4]\n",
    "for i in range(len(fig)):\n",
    "    fig[i]['layout']['yaxis']['title'] = 'beta'\n",
    "    \n",
    "#open file for writing and save locally\n",
    "with open('plotlyfigs/compounding.pickle','wb') as f:\n",
    "    pickle.dump(fig,f,pickle.HIGHEST_PROTOCOL)"
   ]
  },
  {
   "cell_type": "code",
   "execution_count": 2,
   "metadata": {},
   "outputs": [
    {
     "ename": "NameError",
     "evalue": "name 'py' is not defined",
     "output_type": "error",
     "traceback": [
      "\u001b[1;31m---------------------------------------------------------------------------\u001b[0m",
      "\u001b[1;31mNameError\u001b[0m                                 Traceback (most recent call last)",
      "\u001b[1;32m<ipython-input-2-0377dbf5d87a>\u001b[0m in \u001b[0;36m<module>\u001b[1;34m\u001b[0m\n\u001b[0;32m      1\u001b[0m \u001b[1;31m#download fracture toughness figures\u001b[0m\u001b[1;33m\u001b[0m\u001b[1;33m\u001b[0m\u001b[1;33m\u001b[0m\u001b[0m\n\u001b[1;32m----> 2\u001b[1;33m \u001b[0mfig1\u001b[0m \u001b[1;33m=\u001b[0m \u001b[0mpy\u001b[0m\u001b[1;33m.\u001b[0m\u001b[0mget_figure\u001b[0m\u001b[1;33m(\u001b[0m\u001b[1;34m'https://plot.ly/~ndaman/89'\u001b[0m\u001b[1;33m,\u001b[0m \u001b[0mraw\u001b[0m\u001b[1;33m=\u001b[0m\u001b[1;32mTrue\u001b[0m\u001b[1;33m)\u001b[0m \u001b[1;31m#title format is ok\u001b[0m\u001b[1;33m\u001b[0m\u001b[1;33m\u001b[0m\u001b[0m\n\u001b[0m\u001b[0;32m      3\u001b[0m \u001b[1;32mdel\u001b[0m \u001b[0mfig1\u001b[0m\u001b[1;33m[\u001b[0m\u001b[1;34m'layout'\u001b[0m\u001b[1;33m]\u001b[0m\u001b[1;33m[\u001b[0m\u001b[1;34m'breakpoints'\u001b[0m\u001b[1;33m]\u001b[0m\u001b[1;33m\u001b[0m\u001b[1;33m\u001b[0m\u001b[0m\n\u001b[0;32m      4\u001b[0m \u001b[0mfig2\u001b[0m \u001b[1;33m=\u001b[0m \u001b[0mpy\u001b[0m\u001b[1;33m.\u001b[0m\u001b[0mget_figure\u001b[0m\u001b[1;33m(\u001b[0m\u001b[1;34m'https://plot.ly/~ndaman/164'\u001b[0m\u001b[1;33m,\u001b[0m \u001b[0mraw\u001b[0m\u001b[1;33m=\u001b[0m\u001b[1;32mTrue\u001b[0m\u001b[1;33m)\u001b[0m \u001b[1;31m#need to fix title\u001b[0m\u001b[1;33m\u001b[0m\u001b[1;33m\u001b[0m\u001b[0m\n\u001b[0;32m      5\u001b[0m \u001b[0mfig2\u001b[0m\u001b[1;33m[\u001b[0m\u001b[1;34m'layout'\u001b[0m\u001b[1;33m]\u001b[0m\u001b[1;33m[\u001b[0m\u001b[1;34m'title'\u001b[0m\u001b[1;33m]\u001b[0m \u001b[1;33m=\u001b[0m \u001b[1;34m'Aluminum T=-65 F, L-T Direction (p. 114)'\u001b[0m\u001b[1;33m\u001b[0m\u001b[1;33m\u001b[0m\u001b[0m\n",
      "\u001b[1;31mNameError\u001b[0m: name 'py' is not defined"
     ]
    }
   ],
   "source": [
    "#download fracture toughness figures\n",
    "fig1 = py.get_figure('https://plot.ly/~ndaman/89', raw=True) #title format is ok\n",
    "del fig1['layout']['breakpoints']\n",
    "fig2 = py.get_figure('https://plot.ly/~ndaman/164', raw=True) #need to fix title\n",
    "fig2['layout']['title'] = 'Aluminum T=-65 F, L-T Direction (p. 114)'\n",
    "fig3 = py.get_figure('https://plot.ly/~ndaman/118', raw=True) #need to fix title and background\n",
    "fig3['layout']['title'] = 'Aluminum Room Temperature, T-L Direction (p. 115)'\n",
    "fig3['layout']['plot_bgcolor'] = u'rgb(229, 229, 229)'\n",
    "fig4 = py.get_figure('https://plot.ly/~ndaman/120', raw=True) #need to fix title\n",
    "fig4['layout']['title'] = 'Aluminum T=-65 F, T-L Direction (p. 116)'\n",
    "fig5 = py.get_figure('https://plot.ly/~ndaman/142', raw=True) #need to fix title\n",
    "fig5['layout']['title'] = 'Titaniam Room Temperature and T=-65 F (p. 117)'\n",
    "fig6 = py.get_figure('https://plot.ly/~ndaman/148', raw=True) #need to fix title\n",
    "fig6['layout']['title'] = 'Steel T=-65 F (p. 119)'\n",
    "fig7 = py.get_figure('https://plot.ly/~ndaman/144', raw=True) #need to fix title\n",
    "fig7['layout']['title'] = 'Steel Room Temperature (p. 120)'"
   ]
  },
  {
   "cell_type": "code",
   "execution_count": null,
   "metadata": {},
   "outputs": [],
   "source": [
    "#save fracture toughness figures\n",
    "fig = [fig1,fig2,fig3,fig4,fig5,fig6,fig7]\n",
    "#uniform styling\n",
    "for i in range(len(fig)):\n",
    "    fig[i]['layout']['plot_bgcolor'] = u'rgb(229, 229, 229)'\n",
    "    fig[i]['layout']['xaxis']['gridcolor'] = u'rgb(255,255,255)'\n",
    "    fig[i]['layout']['xaxis']['zerolinecolor'] = u'rgb(255,255,255)'\n",
    "    fig[i]['layout']['yaxis']['gridcolor'] = u'rgb(255,255,255)'\n",
    "    fig[i]['layout']['yaxis']['zerolinecolor'] = u'rgb(255,255,255)'\n",
    "    fig[i]['layout'].pop('height',None)\n",
    "    fig[i]['layout'].pop('width',None)\n",
    "with open('../plotlyfigs/fracture-toughness.pickle','wb') as f:\n",
    "    pickle.dump(fig,f,pickle.HIGHEST_PROTOCOL)"
   ]
  },
  {
   "cell_type": "code",
   "execution_count": 10,
   "metadata": {},
   "outputs": [],
   "source": [
    "#download stiffener figures\n",
    "fig1 = py.get_figure('https://plot.ly/~ndaman/82', raw=True)\n",
    "fig1['layout']['title'] = 'Crack centered between stiffeners &mu;=0.30 (p. 167)'\n",
    "fig1['layout']['yaxis']['title'] = 'beta'\n",
    "fig2 = py.get_figure('https://plot.ly/~ndaman/80', raw=True) #fix title\n",
    "fig2['layout']['title'] = 'Crack centered between stiffeners &mu;=0.50 (p. 168)'\n",
    "fig2['layout']['yaxis']['title'] = 'beta'\n",
    "fig3 = py.get_figure('https://plot.ly/~ndaman/78', raw=True)\n",
    "fig3['layout']['title'] = 'Crack centered between stiffeners &mu;=0.30 (p. 169)'\n",
    "fig4 = py.get_figure('https://plot.ly/~ndaman/85', raw=True)\n",
    "fig4['layout']['title'] = 'Crack centered between stiffeners &mu;=0.50 (p. 170)'\n",
    "fig5 = py.get_figure('https://plot.ly/~ndaman/140', raw=True)\n",
    "fig5['layout']['title'] = 'Crack centered between stiffeners &mu;=0.30 (p. 171)'\n",
    "fig5['layout']['xaxis']['title'] = 'a/b'\n",
    "fig5['layout']['yaxis']['title'] = 'L<sub>R</sub>'\n",
    "fig6 = py.get_figure('https://plot.ly/~ndaman/124', raw=True)\n",
    "fig6['layout']['title'] = 'Crack centered between stiffeners &mu;=0.50 (p. 172)'\n",
    "fig6['layout']['yaxis']['title'] = 'L<sub>R</sub>'\n",
    "fig7 = py.get_figure('https://plot.ly/~ndaman/91', raw=True)\n",
    "fig7['layout']['title'] = 'Crack centered under stiffener &mu;=0.30 (p. 173)'\n",
    "fig7['layout']['yaxis']['title'] = 'beta'\n",
    "fig8 = py.get_figure('https://plot.ly/~ndaman/60', raw=True)\n",
    "fig8['layout']['title'] = 'Crack centered under stiffener &mu;=0.50 (p. 174)'\n",
    "fig8['layout']['yaxis']['title'] = 'beta'\n",
    "fig9 = py.get_figure('https://plot.ly/~ndaman/95', raw=True)\n",
    "fig9['layout']['title'] = 'Crack centered under stiffener &mu;=0.30 (p. 175)'\n",
    "fig10 = py.get_figure('https://plot.ly/~ndaman/93', raw=True)\n",
    "fig10['layout']['title'] = 'Crack centered under stiffener &mu;=0.50 (p. 176)'\n",
    "fig10['layout']['yaxis']['title'] = 'L'\n",
    "fig11 = py.get_figure('https://plot.ly/~ndaman/99', raw=True)\n",
    "fig11['layout']['title'] = 'Crack centered under stiffener &mu;=0.30 (p. 177)'\n",
    "fig11['layout']['yaxis']['title'] = 'L<sub>R</sub>'\n",
    "fig12 = py.get_figure('https://plot.ly/~ndaman/168', raw=True)\n",
    "fig12['layout']['title'] = 'Crack centered Under stiffener &mu;=0.50 (p. 178)'\n",
    "fig12['layout']['yaxis']['title'] = 'L<sub>R</sub>'\n",
    "fig13 = py.get_figure('https://plot.ly/~ndaman/58', raw=True)\n",
    "fig13['layout']['yaxis']['title'] = '&sigma;<sub>c</sub>'"
   ]
  },
  {
   "cell_type": "code",
   "execution_count": 11,
   "metadata": {},
   "outputs": [],
   "source": [
    "#save stiffener figures\n",
    "fig = [fig1,fig2,fig3,fig4,fig5,fig6,fig7,fig8,fig9,fig10,fig11,fig12,fig13]\n",
    "for i in range(len(fig)):\n",
    "    fig[i]['layout'].pop('breakpoints',None)\n",
    "    \n",
    "with open('plotlyfigs/stiffener-figs.pickle','wb') as f:\n",
    "    pickle.dump(fig,f,pickle.HIGHEST_PROTOCOL)"
   ]
  },
  {
   "cell_type": "code",
   "execution_count": 18,
   "metadata": {},
   "outputs": [],
   "source": [
    "#download stress concentration factor figures\n",
    "fig1 = py.get_figure('https://plot.ly/~ndaman/97', raw=True)\n",
    "fig2 = py.get_figure('https://plot.ly/~ndaman/122', raw=True)\n",
    "fig3 = py.get_figure('https://plot.ly/~ndaman/146', raw=True)\n",
    "fig4 = py.get_figure('https://plot.ly/~ndaman/138', raw=True)"
   ]
  },
  {
   "cell_type": "code",
   "execution_count": 75,
   "metadata": {},
   "outputs": [],
   "source": [
    "#save stress concentration factor figures\n",
    "fig = [fig1,fig2,fig3,fig4]\n",
    "\n",
    "#fix figure labels\n",
    "fig[0]['data'][0]['name'] = 'K<sub>tg</sub>'\n",
    "fig[0]['data'][0]['text'] = 'K<sub>tg</sub>'\n",
    "fig[0]['data'][1]['name'] = 'K<sub>tn</sub>'\n",
    "fig[0]['data'][1]['text'] = 'K<sub>tn</sub>'\n",
    "fig[0]['layout']['yaxis']['title'] = 'K<sub>t</sub>'\n",
    "fig[1]['layout']['yaxis']['title'] = 'K<sub>t</sub>'\n",
    "fig[0]['data'][0].pop('autobinx',None)\n",
    "fig[0]['data'][0].pop('autobiny',None)\n",
    "fig[0]['data'][1].pop('autobinx',None)\n",
    "fig[0]['data'][1].pop('autobiny',None)\n",
    "fig[0]['layout'].pop('breakpoints',None)\n",
    "fig[1]['layout'].pop('breakpoints',None)\n",
    "fig[2]['layout'].pop('breakpoints',None)\n",
    "fig[3]['layout'].pop('breakpoints',None)\n",
    "fig[2]['layout']['title'] = 'K<sub>t</sub> For bending of edge-notched bar (p. 84)'\n",
    "fig[1]['data'][0]['name'] = 'K<sub>tg</sub>   e/c=1'\n",
    "fig[1]['data'][1]['name'] = 'K<sub>tg</sub>   e/c=2'\n",
    "fig[1]['data'][2]['name'] = 'K<sub>tg</sub>   e/c=4'\n",
    "fig[1]['data'][3]['name'] = 'K<sub>tg</sub>   e/c=infty'\n",
    "fig[1]['data'][4]['name'] = 'K<sub>tn</sub>   e/c=1'\n",
    "fig[1]['data'][5]['name'] = 'K<sub>tn</sub>   e/c=2'\n",
    "fig[1]['data'][6]['name'] = 'K<sub>tn</sub>   e/c=infty'\n",
    "fig[2]['layout']['xaxis']['title'] = 'r/d'\n",
    "fig[2]['layout']['yaxis']['title'] = 'K<sub>t</sub>'\n",
    "fig[3]['layout']['xaxis']['title'] = 'r/d'\n",
    "fig[3]['layout']['yaxis']['title'] = 'K<sub>t</sub>'\n",
    "fig[3]['layout']['title'] = 'K<sub>t</sub> For Fillets (p. 85)'\n",
    "fig[3]['data'][0]['name']='D/d=2'\n",
    "fig[3]['data'][1]['name']='D/d=1.5'\n",
    "fig[3]['data'][2]['name']='D/d=1.3'\n",
    "fig[3]['data'][3]['name']='D/d=1.2'\n",
    "fig[3]['data'][4]['name']='D/d=1.1'\n",
    "fig[3]['data'][5]['name']='D/d=1.05'\n",
    "fig[3]['data'][6]['name']='D/d=1.02'\n",
    "fig[3]['data'][7]['name']='D/d=1.01'\n",
    "\n",
    "#uniform styling\n",
    "for i in range(len(fig)):\n",
    "    fig[i]['layout']['plot_bgcolor'] = u'rgb(229, 229, 229)'\n",
    "    fig[i]['layout']['xaxis']['gridcolor'] = u'rgb(255,255,255)'\n",
    "    fig[i]['layout']['xaxis']['zerolinecolor'] = u'rgb(255,255,255)'\n",
    "    fig[i]['layout']['yaxis']['gridcolor'] = u'rgb(255,255,255)'\n",
    "    fig[i]['layout']['yaxis']['zerolinecolor'] = u'rgb(255,255,255)'\n",
    "    fig[i]['layout'].pop('height',None)\n",
    "    fig[i]['layout'].pop('width',None)\n",
    "    for j in range(len(fig[i]['data'])):\n",
    "        fig[i]['data'][j].pop('line',None)\n",
    "\n",
    "with open('plotlyfigs/stress-concentration.pickle','wb') as f:\n",
    "    pickle.dump(fig,f,pickle.HIGHEST_PROTOCOL)"
   ]
  },
  {
   "cell_type": "code",
   "execution_count": 19,
   "metadata": {},
   "outputs": [
    {
     "data": {
      "text/plain": [
       "{'title': 'Aluminum Room Temperature, T-L Direction (p. 115)',\n",
       " 'xaxis': {'type': 'linear',\n",
       "  'range': [-0.005405405, 1.183783784],\n",
       "  'title': 'Thickness (in)',\n",
       "  'autorange': True,\n",
       "  'gridcolor': 'rgb(255,255,255)',\n",
       "  'zerolinecolor': 'rgb(255,255,255)'},\n",
       " 'yaxis': {'type': 'linear',\n",
       "  'range': [7.926710492777777, 151.8030192372222],\n",
       "  'title': '$K_c (\\\\text{ksi} \\\\sqrt{\\\\text{in}})$',\n",
       "  'autorange': True,\n",
       "  'gridcolor': 'rgb(255,255,255)',\n",
       "  'zerolinecolor': 'rgb(255,255,255)'},\n",
       " 'autosize': True,\n",
       " 'plot_bgcolor': 'rgb(229, 229, 229)'}"
      ]
     },
     "execution_count": 19,
     "metadata": {},
     "output_type": "execute_result"
    }
   ],
   "source": [
    "fig[2]['layout']"
   ]
  },
  {
   "cell_type": "code",
   "execution_count": 18,
   "metadata": {},
   "outputs": [],
   "source": [
    "del fig[2]['layout']['plot_bfcolor']"
   ]
  },
  {
   "cell_type": "code",
   "execution_count": null,
   "metadata": {},
   "outputs": [],
   "source": []
  }
 ],
 "metadata": {
  "anaconda-cloud": {},
  "kernelspec": {
   "display_name": "Python 3",
   "language": "python",
   "name": "python3"
  },
  "language_info": {
   "codemirror_mode": {
    "name": "ipython",
    "version": 3
   },
   "file_extension": ".py",
   "mimetype": "text/x-python",
   "name": "python",
   "nbconvert_exporter": "python",
   "pygments_lexer": "ipython3",
   "version": "3.7.4"
  }
 },
 "nbformat": 4,
 "nbformat_minor": 1
}
