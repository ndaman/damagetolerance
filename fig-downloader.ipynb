{
 "cells": [
  {
   "cell_type": "markdown",
   "metadata": {},
   "source": [
    "## Download data from plot.ly and save it locally\n",
    "\n",
    "This code will download the compounding figures previously saved to plot.ly so they are locally accessible via the Python module pickle."
   ]
  },
  {
   "cell_type": "code",
   "execution_count": 1,
   "metadata": {
    "collapsed": true
   },
   "outputs": [],
   "source": [
    "import pickle #this module will save the data to be loaded later\n",
    "import plotly.plotly as py #connect to plot.ly to download the data"
   ]
  },
  {
   "cell_type": "code",
   "execution_count": 2,
   "metadata": {
    "collapsed": true
   },
   "outputs": [],
   "source": [
    "#download compounding figures\n",
    "fig1 = py.get_figure('https://plot.ly/~ndaman/56', raw=True)\n",
    "fig2 = py.get_figure('https://plot.ly/~ndaman/54', raw=True)\n",
    "fig3 = py.get_figure('https://plot.ly/~ndaman/50', raw=True)\n",
    "fig4 = py.get_figure('https://plot.ly/~ndaman/52', raw=True)"
   ]
  },
  {
   "cell_type": "code",
   "execution_count": 3,
   "metadata": {
    "collapsed": true
   },
   "outputs": [],
   "source": [
    "fig = [fig1, fig2, fig3, fig4]\n",
    "#open file for writing and save locally\n",
    "with open('plotlyfigs/compounding.pickle','wb') as f:\n",
    "    pickle.dump(fig,f,pickle.HIGHEST_PROTOCOL)"
   ]
  },
  {
   "cell_type": "code",
   "execution_count": 4,
   "metadata": {
    "collapsed": true
   },
   "outputs": [],
   "source": [
    "#download fracture toughness figures\n",
    "fig1 = py.get_figure('https://plot.ly/~ndaman/89', raw=True) #title format is ok\n",
    "fig2 = py.get_figure('https://plot.ly/~ndaman/164', raw=True) #need to fix title\n",
    "fig2['layout']['title'] = 'Aluminum T=-65 F, L-T Direction (p. 114)'\n",
    "fig3 = py.get_figure('https://plot.ly/~ndaman/118', raw=True) #need to fix title and background\n",
    "fig3['layout']['title'] = 'Aluminum Room Temperature, T-L Direction (p. 115)'\n",
    "fig3['layout']['plot_bgcolor'] = u'rgb(229, 229, 229)'\n",
    "fig3['layout']['plot_bfcolor'] = u'rgb(229, 229, 229)'\n",
    "fig4 = py.get_figure('https://plot.ly/~ndaman/120', raw=True) #need to fix title\n",
    "fig4['layout']['title'] = 'Aluminum T=-65 F, T-L Direction (p. 116)'\n",
    "fig5 = py.get_figure('https://plot.ly/~ndaman/142', raw=True) #need to fix title\n",
    "fig5['layout']['title'] = 'Titaniam Room Temperature and T=-65 F (p. 117)'\n",
    "fig6 = py.get_figure('https://plot.ly/~ndaman/148', raw=True) #need to fix title\n",
    "fig6['layout']['title'] = 'Steel T=-65 F (p. 119)'\n",
    "fig7 = py.get_figure('https://plot.ly/~ndaman/144', raw=True) #need to fix title\n",
    "fig7['layout']['title'] = 'Steel Room Temperature (p. 120)'"
   ]
  },
  {
   "cell_type": "code",
   "execution_count": 5,
   "metadata": {
    "collapsed": false
   },
   "outputs": [],
   "source": [
    "#save fracture toughness figures\n",
    "fig = [fig1,fig2,fig3,fig4,fig5,fig6,fig7]\n",
    "#uniform styling\n",
    "for i in range(len(fig)):\n",
    "    fig[i]['layout']['plot_bgcolor'] = u'rgb(229, 229, 229)'\n",
    "    fig[i]['layout']['xaxis']['gridcolor'] = u'rgb(255,255,255)'\n",
    "    fig[i]['layout']['xaxis']['zerolinecolor'] = u'rgb(255,255,255)'\n",
    "    fig[i]['layout']['yaxis']['gridcolor'] = u'rgb(255,255,255)'\n",
    "    fig[i]['layout']['yaxis']['zerolinecolor'] = u'rgb(255,255,255)'\n",
    "    fig[i]['layout'].pop('height',None)\n",
    "    fig[i]['layout'].pop('width',None)\n",
    "with open('plotlyfigs/fracture-toughness.picke','wb') as f:\n",
    "    pickle.dump(fig,f,pickle.HIGHEST_PROTOCOL)"
   ]
  },
  {
   "cell_type": "code",
   "execution_count": 10,
   "metadata": {
    "collapsed": false
   },
   "outputs": [],
   "source": [
    "#download stiffener figures\n",
    "fig1 = py.get_figure('https://plot.ly/~ndaman/82', raw=True)\n",
    "fig1['layout']['title'] = 'Crack centered between stiffeners &mu;=0.30 (p. 167)'\n",
    "fig1['layout']['yaxis']['title'] = 'beta'\n",
    "fig2 = py.get_figure('https://plot.ly/~ndaman/80', raw=True) #fix title\n",
    "fig2['layout']['title'] = 'Crack centered between stiffeners &mu;=0.50 (p. 168)'\n",
    "fig2['layout']['yaxis']['title'] = 'beta'\n",
    "fig3 = py.get_figure('https://plot.ly/~ndaman/78', raw=True)\n",
    "fig3['layout']['title'] = 'Crack centered between stiffeners &mu;=0.30 (p. 169)'\n",
    "fig4 = py.get_figure('https://plot.ly/~ndaman/85', raw=True)\n",
    "fig4['layout']['title'] = 'Crack centered between stiffeners &mu;=0.50 (p. 170)'\n",
    "fig5 = py.get_figure('https://plot.ly/~ndaman/140', raw=True)\n",
    "fig5['layout']['title'] = 'Crack centered between stiffeners &mu;=0.30 (p. 171)'\n",
    "fig5['layout']['xaxis']['title'] = 'a/b'\n",
    "fig5['layout']['yaxis']['title'] = 'L<sub>R</sub>'\n",
    "fig6 = py.get_figure('https://plot.ly/~ndaman/124', raw=True)\n",
    "fig6['layout']['title'] = 'Crack centered between stiffeners &mu;=0.50 (p. 172)'\n",
    "fig6['layout']['yaxis']['title'] = 'L<sub>R</sub>'\n",
    "fig7 = py.get_figure('https://plot.ly/~ndaman/91', raw=True)\n",
    "fig7['layout']['title'] = 'Crack centered under stiffener &mu;=0.30 (p. 173)'\n",
    "fig7['layout']['yaxis']['title'] = 'beta'\n",
    "fig8 = py.get_figure('https://plot.ly/~ndaman/60', raw=True)\n",
    "fig8['layout']['title'] = 'Crack centered under stiffener &mu;=0.50 (p. 174)'\n",
    "fig8['layout']['yaxis']['title'] = 'beta'\n",
    "fig9 = py.get_figure('https://plot.ly/~ndaman/95', raw=True)\n",
    "fig9['layout']['title'] = 'Crack centered under stiffener &mu;=0.30 (p. 175)'\n",
    "fig10 = py.get_figure('https://plot.ly/~ndaman/93', raw=True)\n",
    "fig10['layout']['title'] = 'Crack centered under stiffener &mu;=0.50 (p. 176)'\n",
    "fig10['layout']['yaxis']['title'] = 'L'\n",
    "fig11 = py.get_figure('https://plot.ly/~ndaman/99', raw=True)\n",
    "fig11['layout']['title'] = 'Crack centered under stiffener &mu;=0.30 (p. 177)'\n",
    "fig11['layout']['yaxis']['title'] = 'L<sub>R</sub>'\n",
    "fig12 = py.get_figure('https://plot.ly/~ndaman/168', raw=True)\n",
    "fig12['layout']['title'] = 'Crack centered Under stiffener &mu;=0.50 (p. 178)'\n",
    "fig12['layout']['yaxis']['title'] = 'L<sub>R</sub>'\n",
    "fig13 = py.get_figure('https://plot.ly/~ndaman/58', raw=True)\n",
    "fig13['layout']['yaxis']['title'] = '&sigma;<sub>c</sub>'"
   ]
  },
  {
   "cell_type": "code",
   "execution_count": 11,
   "metadata": {
    "collapsed": false
   },
   "outputs": [],
   "source": [
    "#save stiffener figures\n",
    "fig = [fig1,fig2,fig3,fig4,fig5,fig6,fig7,fig8,fig9,fig10,fig11,fig12,fig13]\n",
    "for i in range(len(fig)):\n",
    "    fig[i]['layout'].pop('breakpoints',None)\n",
    "    \n",
    "with open('plotlyfigs/stiffener-figs.pickle','wb') as f:\n",
    "    pickle.dump(fig,f,pickle.HIGHEST_PROTOCOL)"
   ]
  },
  {
   "cell_type": "code",
   "execution_count": 18,
   "metadata": {
    "collapsed": false
   },
   "outputs": [],
   "source": [
    "#download stress concentration factor figures\n",
    "fig1 = py.get_figure('https://plot.ly/~ndaman/97', raw=True)\n",
    "fig2 = py.get_figure('https://plot.ly/~ndaman/122', raw=True)\n",
    "fig3 = py.get_figure('https://plot.ly/~ndaman/146', raw=True)\n",
    "fig4 = py.get_figure('https://plot.ly/~ndaman/138', raw=True)"
   ]
  },
  {
   "cell_type": "code",
   "execution_count": 75,
   "metadata": {
    "collapsed": false
   },
   "outputs": [],
   "source": [
    "#save stress concentration factor figures\n",
    "fig = [fig1,fig2,fig3,fig4]\n",
    "\n",
    "#fix figure labels\n",
    "fig[0]['data'][0]['name'] = 'K<sub>tg</sub>'\n",
    "fig[0]['data'][0]['text'] = 'K<sub>tg</sub>'\n",
    "fig[0]['data'][1]['name'] = 'K<sub>tn</sub>'\n",
    "fig[0]['data'][1]['text'] = 'K<sub>tn</sub>'\n",
    "fig[0]['layout']['yaxis']['title'] = 'K<sub>t</sub>'\n",
    "fig[1]['layout']['yaxis']['title'] = 'K<sub>t</sub>'\n",
    "fig[0]['data'][0].pop('autobinx',None)\n",
    "fig[0]['data'][0].pop('autobiny',None)\n",
    "fig[0]['data'][1].pop('autobinx',None)\n",
    "fig[0]['data'][1].pop('autobiny',None)\n",
    "fig[0]['layout'].pop('breakpoints',None)\n",
    "fig[1]['layout'].pop('breakpoints',None)\n",
    "fig[2]['layout'].pop('breakpoints',None)\n",
    "fig[3]['layout'].pop('breakpoints',None)\n",
    "fig[2]['layout']['title'] = 'K<sub>t</sub> For bending of edge-notched bar (p. 84)'\n",
    "fig[1]['data'][0]['name'] = 'K<sub>tg</sub>   e/c=1'\n",
    "fig[1]['data'][1]['name'] = 'K<sub>tg</sub>   e/c=2'\n",
    "fig[1]['data'][2]['name'] = 'K<sub>tg</sub>   e/c=4'\n",
    "fig[1]['data'][3]['name'] = 'K<sub>tg</sub>   e/c=infty'\n",
    "fig[1]['data'][4]['name'] = 'K<sub>tn</sub>   e/c=1'\n",
    "fig[1]['data'][5]['name'] = 'K<sub>tn</sub>   e/c=2'\n",
    "fig[1]['data'][6]['name'] = 'K<sub>tn</sub>   e/c=infty'\n",
    "fig[2]['layout']['xaxis']['title'] = 'r/d'\n",
    "fig[2]['layout']['yaxis']['title'] = 'K<sub>t</sub>'\n",
    "fig[3]['layout']['xaxis']['title'] = 'r/d'\n",
    "fig[3]['layout']['yaxis']['title'] = 'K<sub>t</sub>'\n",
    "fig[3]['layout']['title'] = 'K<sub>t</sub> For Fillets (p. 85)'\n",
    "fig[3]['data'][0]['name']='D/d=2'\n",
    "fig[3]['data'][1]['name']='D/d=1.5'\n",
    "fig[3]['data'][2]['name']='D/d=1.3'\n",
    "fig[3]['data'][3]['name']='D/d=1.2'\n",
    "fig[3]['data'][4]['name']='D/d=1.1'\n",
    "fig[3]['data'][5]['name']='D/d=1.05'\n",
    "fig[3]['data'][6]['name']='D/d=1.02'\n",
    "fig[3]['data'][7]['name']='D/d=1.01'\n",
    "\n",
    "#uniform styling\n",
    "for i in range(len(fig)):\n",
    "    fig[i]['layout']['plot_bgcolor'] = u'rgb(229, 229, 229)'\n",
    "    fig[i]['layout']['xaxis']['gridcolor'] = u'rgb(255,255,255)'\n",
    "    fig[i]['layout']['xaxis']['zerolinecolor'] = u'rgb(255,255,255)'\n",
    "    fig[i]['layout']['yaxis']['gridcolor'] = u'rgb(255,255,255)'\n",
    "    fig[i]['layout']['yaxis']['zerolinecolor'] = u'rgb(255,255,255)'\n",
    "    fig[i]['layout'].pop('height',None)\n",
    "    fig[i]['layout'].pop('width',None)\n",
    "    for j in range(len(fig[i]['data'])):\n",
    "        fig[i]['data'][j].pop('line',None)\n",
    "\n",
    "with open('plotlyfigs/stress-concentration.pickle','wb') as f:\n",
    "    pickle.dump(fig,f,pickle.HIGHEST_PROTOCOL)"
   ]
  },
  {
   "cell_type": "code",
   "execution_count": 74,
   "metadata": {
    "collapsed": false
   },
   "outputs": [
    {
     "data": {
      "text/plain": [
       "{u'autosize': False,\n",
       " u'hovermode': u'closest',\n",
       " u'plot_bgcolor': u'rgb(229, 229, 229)',\n",
       " u'title': u'Stress Concentration for Off-center Hole (p. 83)',\n",
       " u'xaxis': {u'autorange': True,\n",
       "  u'gridcolor': u'rgb(255,255,255)',\n",
       "  u'gridwidth': 0.5,\n",
       "  u'range': [0.00349019370515087, 0.497756811358211],\n",
       "  u'showline': True,\n",
       "  u'title': u'r/c',\n",
       "  u'type': u'linear',\n",
       "  u'zerolinecolor': u'rgb(255,255,255)'},\n",
       " u'yaxis': {u'autorange': True,\n",
       "  u'gridcolor': u'rgb(255,255,255)',\n",
       "  u'gridwidth': 0.5,\n",
       "  u'range': [2.02780602137393, 4.449087858104459],\n",
       "  u'showline': True,\n",
       "  u'title': u'$K_t$',\n",
       "  u'type': u'linear',\n",
       "  u'zerolinecolor': u'rgb(255,255,255)',\n",
       "  u'zerolinewidth': 0.5}}"
      ]
     },
     "execution_count": 74,
     "metadata": {},
     "output_type": "execute_result"
    }
   ],
   "source": [
    "fig[1]['layout']"
   ]
  },
  {
   "cell_type": "code",
   "execution_count": null,
   "metadata": {
    "collapsed": true
   },
   "outputs": [],
   "source": []
  }
 ],
 "metadata": {
  "anaconda-cloud": {},
  "kernelspec": {
   "display_name": "Python [default]",
   "language": "python",
   "name": "python2"
  },
  "language_info": {
   "codemirror_mode": {
    "name": "ipython",
    "version": 2
   },
   "file_extension": ".py",
   "mimetype": "text/x-python",
   "name": "python",
   "nbconvert_exporter": "python",
   "pygments_lexer": "ipython2",
   "version": "2.7.12"
  }
 },
 "nbformat": 4,
 "nbformat_minor": 1
}
