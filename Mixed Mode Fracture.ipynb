{
 "cells": [
  {
   "cell_type": "markdown",
   "metadata": {},
   "source": [
    "## Maximum Circumferential Stress\n",
    "\n",
    "The first step is to determine $K_I$ and $K_{II}$ for the given panel. Since this is a center crack in an infinite panel, we have"
   ]
  },
  {
   "cell_type": "code",
   "execution_count": 13,
   "metadata": {
    "collapsed": false
   },
   "outputs": [
    {
     "name": "stdout",
     "output_type": "stream",
     "text": [
      "-25.332938613\n"
     ]
    }
   ],
   "source": [
    "import numpy as np\n",
    "\n",
    "tau = 1.0\n",
    "sigma = 4.0\n",
    "K_IC = 60.0 #ksi sqrt(in)\n",
    "a = 1.5/2 #in\n",
    "\n",
    "K_I = sigma*np.sqrt(np.pi*a)\n",
    "K_II = tau*np.sqrt(np.pi*a)\n",
    "\n",
    "#import a solver library to solve non-linear trig equations\n",
    "from scipy import optimize\n",
    "\n",
    "def myeqn(theta):\n",
    "    return K_I*np.sin(theta) + K_II*(3*np.cos(theta)-1)\n",
    "\n",
    "sol = optimize.root(myeqn,0)\n",
    "theta_p = sol.x[0]\n",
    "print theta_p*180/np.pi"
   ]
  },
  {
   "cell_type": "markdown",
   "metadata": {},
   "source": [
    "We find (using equation 11.14) that the direction of crack extension, $\\theta_P = -25.3^\\circ$. Next we need to find the fracture stress (11.15).\n",
    "$$4K_{IC} = K_I\\left(3\\cos \\frac{\\theta_P}{2} + \\cos \\frac{3\\theta_P}{2}\\right) - 3K_{II}\\left(\\sin \\frac{\\theta_P}{2} + \\sin \\frac{3\\theta_P}{2}\\right) $$"
   ]
  },
  {
   "cell_type": "code",
   "execution_count": 14,
   "metadata": {
    "collapsed": false
   },
   "outputs": [
    {
     "data": {
      "text/plain": [
       "3.7150062221650302"
      ]
     },
     "execution_count": 14,
     "metadata": {},
     "output_type": "execute_result"
    }
   ],
   "source": [
    "3*np.cos(theta_p/2)+np.cos(3*theta_p/2)"
   ]
  },
  {
   "cell_type": "code",
   "execution_count": 15,
   "metadata": {
    "collapsed": false
   },
   "outputs": [
    {
     "data": {
      "text/plain": [
       "-0.83492859561943289"
      ]
     },
     "execution_count": 15,
     "metadata": {},
     "output_type": "execute_result"
    }
   ],
   "source": [
    "np.sin(theta_p/2)+np.sin(3*theta_p/2)"
   ]
  },
  {
   "cell_type": "markdown",
   "metadata": {},
   "source": [
    "$$4(60) = \\sigma_c \\sqrt{\\pi a} (3.715) + 3\\tau_c \\sqrt{\\pi a} (0.835)$$\n",
    "Since we know that $\\tau_c = \\frac{1}{4}\\sigma_c$ we can substitute and solve\n",
    "$$240 = \\sigma_c \\sqrt{.75 \\pi} (3.715) + 3/4\\sigma_c \\sqrt{.75 \\pi} (0.835)$$"
   ]
  },
  {
   "cell_type": "code",
   "execution_count": 16,
   "metadata": {
    "collapsed": false
   },
   "outputs": [
    {
     "name": "stdout",
     "output_type": "stream",
     "text": [
      "36.015618499\n"
     ]
    }
   ],
   "source": [
    "s_c = 240/(np.sqrt(np.pi*a)*(3.715+.75*.835))\n",
    "print s_c"
   ]
  },
  {
   "cell_type": "markdown",
   "metadata": {},
   "source": [
    "We find that the critical stress in this case is $\\sigma_c = 36.0 \\text{ ksi}$"
   ]
  },
  {
   "cell_type": "markdown",
   "metadata": {},
   "source": [
    "## Principal Stress Criterion\n",
    "\n",
    "We can also use the principal stress criterion for the same conditions to compare the two methods."
   ]
  },
  {
   "cell_type": "code",
   "execution_count": 17,
   "metadata": {
    "collapsed": false
   },
   "outputs": [
    {
     "data": {
      "text/plain": [
       "-13.282525588538995"
      ]
     },
     "execution_count": 17,
     "metadata": {},
     "output_type": "execute_result"
    }
   ],
   "source": [
    "theta_p = np.arctan(-0.5)/2\n",
    "theta_p*180/np.pi"
   ]
  },
  {
   "cell_type": "markdown",
   "metadata": {},
   "source": [
    "Now that we have found the angle we can substitute into 11.17b"
   ]
  },
  {
   "cell_type": "code",
   "execution_count": 20,
   "metadata": {
    "collapsed": false
   },
   "outputs": [
    {
     "name": "stdout",
     "output_type": "stream",
     "text": [
      "1.05901699437\n"
     ]
    }
   ],
   "source": [
    "s_theta = 0*np.sin(theta_p)**2 + 1.0*np.cos(theta_p)**2 - 0.5*np.sin(theta_p)*np.cos(theta_p)\n",
    "print s_theta"
   ]
  },
  {
   "cell_type": "markdown",
   "metadata": {},
   "source": [
    "We know solve\n",
    "$$K_{IC} = 1.06 \\sigma_c \\sqrt{\\pi a}$$"
   ]
  },
  {
   "cell_type": "code",
   "execution_count": 21,
   "metadata": {
    "collapsed": false
   },
   "outputs": [
    {
     "data": {
      "text/plain": [
       "36.909890171596551"
      ]
     },
     "execution_count": 21,
     "metadata": {},
     "output_type": "execute_result"
    }
   ],
   "source": [
    "K_IC/(s_theta*np.sqrt(np.pi*a))"
   ]
  },
  {
   "cell_type": "markdown",
   "metadata": {},
   "source": [
    "And we find that $\\sigma_c = 36.9 \\text{ ksi}$"
   ]
  },
  {
   "cell_type": "code",
   "execution_count": null,
   "metadata": {
    "collapsed": true
   },
   "outputs": [],
   "source": []
  }
 ],
 "metadata": {
  "kernelspec": {
   "display_name": "Python 2",
   "language": "python",
   "name": "python2"
  },
  "language_info": {
   "codemirror_mode": {
    "name": "ipython",
    "version": 2
   },
   "file_extension": ".py",
   "mimetype": "text/x-python",
   "name": "python",
   "nbconvert_exporter": "python",
   "pygments_lexer": "ipython2",
   "version": "2.7.11"
  }
 },
 "nbformat": 4,
 "nbformat_minor": 0
}
