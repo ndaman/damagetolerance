{
 "cells": [
  {
   "cell_type": "markdown",
   "metadata": {},
   "source": [
    "## 1\n",
    "Stress Intensity - measure of the magnitude of the local stress field"
   ]
  },
  {
   "cell_type": "markdown",
   "metadata": {},
   "source": [
    "## 2\n",
    "\n",
    "For a center-cracked panel with uniform remote stress, we must decide whether to use the Finite Width or Infinite Width formula. Since Width is given as a parameter, we will use the Finite Width equation.\n",
    "\n",
    "$$K_I = \\sigma \\sqrt{\\pi a} \\sqrt{\\sec (\\pi a/W)} \\tag{2.2a}$$\n",
    "\n",
    "For $W/2a = 5$ we can substitute to find\n",
    "\n",
    "$$K_I = \\sigma \\sqrt{\\pi a}\\sqrt{\\sec (\\pi/10)}$$"
   ]
  },
  {
   "cell_type": "code",
   "execution_count": 1,
   "metadata": {
    "collapsed": false
   },
   "outputs": [
    {
     "data": {
      "text/plain": [
       "1.0254083207377767"
      ]
     },
     "execution_count": 1,
     "metadata": {},
     "output_type": "execute_result"
    }
   ],
   "source": [
    "import numpy as np\n",
    "K_I_center = np.sqrt(1/np.cos(np.pi/10))\n",
    "K_I_center"
   ]
  },
  {
   "cell_type": "markdown",
   "metadata": {},
   "source": [
    "Thus\n",
    "$$K_I = 1.025 \\sigma \\sqrt{\\pi a}$$"
   ]
  },
  {
   "cell_type": "markdown",
   "metadata": {},
   "source": [
    "For an edge-cracked panel, since $a/w < 0.6$ we use the simpler finite-width formula:\n",
    "\n",
    "$$K_I = \\sigma \\sqrt{\\pi a}\\left[1.12 - 0.231 \\frac{a}{W} + 10.55 \\left(\\frac{a}{W}\\right)^2 - 21.71 \\left(\\frac{a}{W}\\right)^3 + 30.82 \\left(\\frac{a}{W}\\right)^4\\right] \\tag{2.4a}$$\n",
    "\n",
    "Substituting $W/a = 5$ gives\n",
    "\n",
    "$$K_I = \\sigma \\sqrt{\\pi a}\\left[1.12 - 0.231/5 + 10.55/25 - 21.71/125 + 30.82/625 \\right]$$"
   ]
  },
  {
   "cell_type": "code",
   "execution_count": 2,
   "metadata": {
    "collapsed": false
   },
   "outputs": [
    {
     "data": {
      "text/plain": [
       "1.371432"
      ]
     },
     "execution_count": 2,
     "metadata": {},
     "output_type": "execute_result"
    }
   ],
   "source": [
    "K_I_edge = 1.12 - 0.231/5 + 10.55/25 - 21.71/125 + 30.82/625\n",
    "K_I_edge"
   ]
  },
  {
   "cell_type": "markdown",
   "metadata": {},
   "source": [
    "Thus\n",
    "$$K_I = 1.37 \\sigma \\sqrt{\\pi a}$$\n",
    "\n",
    "We can compare the two results, $K_{I,edge}/K_{I,center}$ to see the different effect the crack has for center and edge cracks"
   ]
  },
  {
   "cell_type": "code",
   "execution_count": 3,
   "metadata": {
    "collapsed": false
   },
   "outputs": [
    {
     "data": {
      "text/plain": [
       "1.3374496503141897"
      ]
     },
     "execution_count": 3,
     "metadata": {},
     "output_type": "execute_result"
    }
   ],
   "source": [
    "K_I_edge/K_I_center"
   ]
  },
  {
   "cell_type": "markdown",
   "metadata": {},
   "source": [
    "Thus a crack at the edge (for this given width) has a 33% stronger effect on the local stress than a center crack.\n",
    "\n",
    "If we look at half of the center-crack specimen (so that it looks like an edge crack), there is an additional constraint (zero slope in y-deformation), this works to decrease the opening stress somewhat relative to the edge-cracked case."
   ]
  },
  {
   "cell_type": "markdown",
   "metadata": {},
   "source": [
    "## 3\n",
    "\n",
    "For a through crack on one side of the hole, we use 2.12\n",
    "$$K_I = \\sigma \\sqrt{\\pi c}\\beta $$\n",
    "$$\\beta = \\beta_1 + \\beta_2 \\tag{2.12a}$$\n",
    "$$\\beta_1 = \\beta_3F_wF_{ww} \\tag{2.12b}$$\n",
    "$$\\beta_2 = \\frac{\\sigma_{br}}{\\sigma} F_4 F_w F_{ww} \\tag{2.12c}$$\n",
    "$$\\beta_3 = 0.7071 + 0.7548 \\frac{R}{R+c} + 0.3415 \\left(\\frac{R}{R+c}\\right)^2 + 0.6420 \\left(\\frac{R}{R+c}\\right)^3 + 0.9196\\left(\\frac{R}{R+c}\\right)^4 \\tag{2.12d}$$\n",
    "$$F_4 = 0.9580 + 0.2561 \\frac{c}{R} - 0.00193 \\left(\\frac{c}{R}\\right)^{2.5} - 0.9804 \\left(\\frac{c}{R}\\right)^{0.5} \\tag{2.12e}$$\n",
    "$$F_w = \\sqrt{\\sec \\frac{\\pi R}{W} \\sec \\frac{\\pi (R + c/2)}{W-c}} \\tag{2.12f}$$\n",
    "$$F_{ww} = 1 - N^{-\\frac{W}{D}} \\left(\\frac{2c}{W-D}\\right)^{\\frac{W}{D} + 0.5}\\tag{2.12g}$$\n",
    "\n",
    "Where\n",
    "$$\\sigma_{br} = \\frac{P}{Dt} = 0$$\n",
    "We also check $2.65 - 0.24\\left(2.75 - \\frac{W}{D}\\right)^2$ to find $N$\n"
   ]
  },
  {
   "cell_type": "code",
   "execution_count": 4,
   "metadata": {
    "collapsed": false
   },
   "outputs": [
    {
     "name": "stdout",
     "output_type": "stream",
     "text": [
      "-150.365\n"
     ]
    }
   ],
   "source": [
    "c = .085\n",
    "D = .25\n",
    "W = 7.0\n",
    "R = D/2\n",
    "print 2.65 - 0.24*(2.75-W/D)**2"
   ]
  },
  {
   "cell_type": "markdown",
   "metadata": {},
   "source": [
    "Since this is less than 2.275, we use $N=2.275$"
   ]
  },
  {
   "cell_type": "code",
   "execution_count": 5,
   "metadata": {
    "collapsed": false
   },
   "outputs": [
    {
     "name": "stdout",
     "output_type": "stream",
     "text": [
      "7201.84531444\n"
     ]
    }
   ],
   "source": [
    "N = 2.275\n",
    "F_ww = 1-N**(-W/D)*(2*c/(W-D))**(W/D+0.5)\n",
    "F_w = np.sqrt(1/np.cos(np.pi*R/W)/np.cos(np.pi*(R+c/2)/(W-c)))\n",
    "F_4 = 0.958+0.2561*c/R-0.00193*(c/R)**2.5-0.9804*(c/R)**0.5\n",
    "beta_3 = 0.7071 + 0.7548*R/(R+c) + 0.3415*(R/(R+c))**2 + 0.6420*(R/(R+c))**3 + + 0.9196*(R/(R+c))**4\n",
    "beta_2 = 0\n",
    "beta_1 = beta_3*F_w*F_ww\n",
    "beta = beta_1 + beta_2\n",
    "s = 10000/(7*.157)\n",
    "K_I = s*np.sqrt(np.pi*c)*beta\n",
    "print K_I"
   ]
  },
  {
   "cell_type": "markdown",
   "metadata": {},
   "source": [
    "Which gives $K_I = 7.20 \\text{ ksi}\\sqrt{\\text{in.}}$"
   ]
  },
  {
   "cell_type": "markdown",
   "metadata": {},
   "source": [
    "For symmetric through cracks around a hole we use the formula\n",
    "$$K_I = \\sigma \\sqrt{\\pi c}\\beta $$\n",
    "$$\\beta = \\beta_1 + \\beta_2 \\tag{2.11a}$$\n",
    "$$\\beta_1 = F_{c/R}F_wF_{ww} \\tag{2.11b}$$\n",
    "$$\\beta_2 = \\frac{\\sigma_{br}}{\\sigma} F_3 F_w F_{ww} \\tag{2.11c}$$\n",
    "$$F_{c/R} = \\frac{3.404 + 3.1872 \\frac{c}{R}}{1 + 3.9273\\frac{c}{R} - 0.00695 \\left(\\frac{c}{R}\\right)^2 } \\tag{2.11d}$$\n",
    "$$F_w = \\sqrt{\\sec \\frac{\\pi R}{W} \\sec \\frac{\\pi (R+c)}{W}} \\tag{2.11e}$$\n",
    "$$F_{ww} = 1- \\left(\\left(1.32 \\frac{W}{D} - 0.14\\right)^{-(.98+\\left(0.1\\frac{W}{D}\\right)^{0.1})}-0.02\\right)\\left(\\frac{2c}{W-D}\\right)^N \\tag{2.11f}$$\n",
    "$$F_3 = 0.098 + 0.3592 e^{-3.5089\\frac{c}{R}} + 0.3817 e^{-0.5515 \\frac{c}{R}} \\tag{2.11g}$$\n",
    "\n",
    "Where\n",
    "$$\\sigma_{br} = \\frac{P}{Dt} = 0$$\n",
    "We also check $\\frac{W}{D} + 2.5$\n"
   ]
  },
  {
   "cell_type": "code",
   "execution_count": 6,
   "metadata": {
    "collapsed": false
   },
   "outputs": [
    {
     "name": "stdout",
     "output_type": "stream",
     "text": [
      "30.5\n"
     ]
    }
   ],
   "source": [
    "c = .085\n",
    "D = .25\n",
    "W = 7.0\n",
    "R = D/2\n",
    "print W/D + 2.5"
   ]
  },
  {
   "cell_type": "markdown",
   "metadata": {},
   "source": [
    "So we use $N=4.5$ (2.11j)"
   ]
  },
  {
   "cell_type": "code",
   "execution_count": 7,
   "metadata": {
    "collapsed": false
   },
   "outputs": [
    {
     "data": {
      "text/plain": [
       "7164.7043903626191"
      ]
     },
     "execution_count": 7,
     "metadata": {},
     "output_type": "execute_result"
    }
   ],
   "source": [
    "N = 4.5\n",
    "s_br = 0\n",
    "s = 10000/(7*.157)\n",
    "F_cr = (3.404+3.1872*c/R)/(1+3.9273*c/R - 0.00695*(c/R)**2)\n",
    "F_w = np.sqrt(1/np.cos(np.pi*R/W)/np.cos(np.pi*(R+c)/W))\n",
    "F_ww = 1-((1.32*W/D-0.14)**(-(0.98+(0.1*W/D)**0.1))-.02)*(2*c/(W-D))**N\n",
    "F_3 = 0.098 + 0.3592*np.exp(-3.5089*c/R)+0.3817*np.exp(-0.5515*c/R)\n",
    "beta_1 = F_cr*F_w*F_ww\n",
    "beta_2 = 0\n",
    "beta = beta_1+beta_2\n",
    "K_I = s*np.sqrt(np.pi*c)*beta\n",
    "K_I"
   ]
  },
  {
   "cell_type": "markdown",
   "metadata": {},
   "source": [
    "Thus $K_I = 7.16 \\text{ ksi}\\sqrt{\\text{in.}}$"
   ]
  },
  {
   "cell_type": "markdown",
   "metadata": {},
   "source": [
    "For a quarter circular crack we use (3.1) with $a=c$. With no minor axis, it is not obvious which direction in which direction the maximum stress intensity factor will be, so we vary $\\phi$ and plot to find the maximum."
   ]
  },
  {
   "cell_type": "code",
   "execution_count": 9,
   "metadata": {
    "collapsed": false
   },
   "outputs": [
    {
     "name": "stdout",
     "output_type": "stream",
     "text": [
      "8026.74369997\n"
     ]
    },
    {
     "data": {
      "image/png": "[encoded data removed]",
      "text/plain": [
       "<matplotlib.figure.Figure at 0x1e4570b8>"
      ]
     },
     "metadata": {},
     "output_type": "display_data"
    }
   ],
   "source": [
    "import matplotlib.pyplot as plt\n",
    "import seaborn as sb\n",
    "sb.set(font_scale=1.5)\n",
    "%matplotlib inline\n",
    "\n",
    "a = c\n",
    "phi = np.linspace(0,np.pi/2)\n",
    "n = 1\n",
    "b = W/2\n",
    "r = R\n",
    "t=0.157\n",
    "fw = np.sqrt(1/np.cos(np.pi*r/(2*b))/np.cos((np.pi*(2*r+n*c)/(4*(b-c)+2*n*c)*np.sqrt(a/t))))\n",
    "lam = 1/(1+c/r*np.cos(0.85*phi))\n",
    "g2 = (1+0.358*lam+1.425*lam**2-1.578*lam**3+2.156*lam**4)/(1+0.13*lam**2)\n",
    "M1 = 1.13 - 0.09*a/c\n",
    "M2 = -0.54 + 0.89/(0.2+a/c)\n",
    "M3 = 0.5 - 1/(0.65+a/c) + 14*(1-a/c)**24\n",
    "Q = 1+1.464*(a/c)**1.65\n",
    "g1 = 1+(0.1+0.35*(a/t)**2)*(1-np.sin(phi))**2\n",
    "g3 = (1+0.04*(a/c))*(1+0.1*(1-np.cos(phi))**2)*(0.85+0.15*(a/t)**.25)\n",
    "g4 = 1 - 0.7*(1-a/t)*(a/c-0.2)*(1-a/c)\n",
    "f_phi = ((a/c)**2*np.cos(phi)**2+np.sin(phi)**2)**.25\n",
    "Fch = (M1 +M2*(a/t)**2 + M3*(a/t)**4)*g1*g2*g3*g4*f_phi*fw\n",
    "B = np.sqrt(1/Q)*Fch\n",
    "KI_double = s*np.sqrt(np.pi*a)*B\n",
    "KI_b = np.sqrt((4/np.pi + a*c/(2*t*r))/(4/np.pi+a*c/(t*r)))*KI_double\n",
    "plt.figure()\n",
    "plt.plot(phi,KI_b)\n",
    "print max(KI_b)"
   ]
  },
  {
   "cell_type": "markdown",
   "metadata": {},
   "source": [
    "This gives a maximum stress intensity at $\\phi = \\pi/2$ (i.e. in the direction of the hole) of $K_I = 8.03 \\text{ ksi}\\sqrt{\\text{in.}}$"
   ]
  },
  {
   "cell_type": "markdown",
   "metadata": {},
   "source": [
    "## 4\n",
    "\n",
    "For a semi-elliptical surface flaw, we use 2.15, with $b \\to \\infty$ and consider the maximum stress intensity factor when $\\phi = 90^\\circ$\n"
   ]
  },
  {
   "cell_type": "code",
   "execution_count": 10,
   "metadata": {
    "collapsed": false
   },
   "outputs": [
    {
     "name": "stdout",
     "output_type": "stream",
     "text": [
      "13.776238525\n"
     ]
    }
   ],
   "source": [
    "a = 0.2\n",
    "c = 0.4\n",
    "t = 0.56\n",
    "phi = np.pi/2\n",
    "fw = 1.0\n",
    "M1 = 1.13 - 0.09*a/c\n",
    "M2 = -0.52 + 0.89/(.2+a/c)\n",
    "M3 = 0.5-1.0/(.65+a/c)+14.0*(1.0-a/c)**4.0\n",
    "Q = 1 + 1.464*(a/c)**1.65\n",
    "f_phi = ((a/c)**2*np.cos(phi)**2+np.sin(phi)**2)**.25\n",
    "g = 1+ (0.1+.35*(a/c)**2)*(1-np.sin(phi))**2\n",
    "Fs = (M1 + M2*(a/t)**2+M3*(a/t)**4)*g*f_phi*fw\n",
    "B = np.sqrt(1/Q)*Fs\n",
    "s = 17.7\n",
    "KI = s*np.sqrt(np.pi*a)*B\n",
    "print KI"
   ]
  },
  {
   "cell_type": "markdown",
   "metadata": {},
   "source": [
    "So we find $K_I = 13.8 \\text{ ksi} \\sqrt{\\text{in.}}$"
   ]
  },
  {
   "cell_type": "markdown",
   "metadata": {
    "collapsed": true
   },
   "source": [
    "## 5\n",
    "\n",
    "While we have no direct formula for an I-Beam, we can estimate the stress intensity factor using the edge-crack bending formula (2.5a) and replacing $\\sigma$ with an effective stress using an I-Beam cross-section. i.e.\n",
    "$$\\sigma = \\frac{6M}{tW^2} = \\frac{My}{I}$$\n",
    "We can calculate the inertia of the I-beam cross-section using the Parallel Axis Theorem\n",
    "$$I = \\sum \\bar{I}_i + A d_i^2$$\n",
    "Since this I-beam is symmetric, we only need to find the inertia of the middle section, $I_1$ and the top section, $I_2$"
   ]
  },
  {
   "cell_type": "code",
   "execution_count": 11,
   "metadata": {
    "collapsed": true
   },
   "outputs": [],
   "source": [
    "I_1 = 0.248*(8.14-2*.378)**3/12\n",
    "I_2 = 5.268*0.378**3/12"
   ]
  },
  {
   "cell_type": "markdown",
   "metadata": {},
   "source": [
    "We can now apply the parallel axis theorem, we need to include the top and bottom sections, which are equal so we multiply the top section by 2"
   ]
  },
  {
   "cell_type": "code",
   "execution_count": 12,
   "metadata": {
    "collapsed": false
   },
   "outputs": [
    {
     "name": "stdout",
     "output_type": "stream",
     "text": [
      "68.3545285908\n"
     ]
    }
   ],
   "source": [
    "I = I_1 + 2*(I_2+5.268*0.378*(8.14/2-.378/2)**2)\n",
    "print I"
   ]
  },
  {
   "cell_type": "markdown",
   "metadata": {},
   "source": [
    "So the inertia of this segmernt is 68.4 $\\text{in.}^4$\n",
    "\n",
    "Next we calculate the bending moment for this beam using a free-body diagram, we find $M= 3000 (6)$ (ft-lb.), or in consistent units (in-lb.) $M= 3000(6)(12) = 1216000$ (in-lb.)\n",
    "\n",
    "We use this to calculate the effective stress as $\\sigma = \\frac{M y}{I}$ with $y=W/2 = 4.07$"
   ]
  },
  {
   "cell_type": "code",
   "execution_count": 13,
   "metadata": {
    "collapsed": false
   },
   "outputs": [
    {
     "data": {
      "text/plain": [
       "12861.181521160837"
      ]
     },
     "execution_count": 13,
     "metadata": {},
     "output_type": "execute_result"
    }
   ],
   "source": [
    "M = 3000*6*12\n",
    "s = M*4.07/I\n",
    "s"
   ]
  },
  {
   "cell_type": "markdown",
   "metadata": {},
   "source": [
    "The crack will first need to propagate through the flange before it can affect the web, so we we consider $a/W = 0.3/5.268$, which we substitute into (2.5a)"
   ]
  },
  {
   "cell_type": "code",
   "execution_count": 14,
   "metadata": {
    "collapsed": false
   },
   "outputs": [
    {
     "name": "stdout",
     "output_type": "stream",
     "text": [
      "13365.0991657\n"
     ]
    }
   ],
   "source": [
    "aw = 0.3/6.268\n",
    "beta = 1.122  - 1.4*aw + 7.33*aw**2 - 13.08*aw**3 +14.0*aw**4\n",
    "KI = s*np.sqrt(np.pi*0.3)*beta\n",
    "print KI"
   ]
  },
  {
   "cell_type": "markdown",
   "metadata": {},
   "source": [
    "Thus $K_I = 13.4 \\text{ksi } \\sqrt{\\text{in.}}$"
   ]
  },
  {
   "cell_type": "markdown",
   "metadata": {},
   "source": [
    "## 6\n",
    "\n",
    "Since we are dealing with cracks along a curved boundary, both \"short\" and \"long,\" we will use the combined method to interpolate between the two solutions.\n",
    "\n",
    "For a short crack, we start by finding the stress concentration factor from p. 84. For that chart, $r/d = \\frac{0.25}{4-(0.1+0.25)}$, we also have $D/d = \\frac{4}{4-(0.1+0.25)}$"
   ]
  },
  {
   "cell_type": "code",
   "execution_count": 15,
   "metadata": {
    "collapsed": false
   },
   "outputs": [
    {
     "name": "stdout",
     "output_type": "stream",
     "text": [
      "0.0684931506849\n",
      "1.09589041096\n"
     ]
    }
   ],
   "source": [
    "r = 0.25\n",
    "d = 4-(.1+.25)\n",
    "D = 4\n",
    "print r/d\n",
    "print D/d"
   ]
  },
  {
   "cell_type": "markdown",
   "metadata": {},
   "source": [
    "We find on the chart that $K_{tn} = 2.5$. Next we relate the given panel to one with a hole in the center and a very short crack on one side of the hole. For this case we find $K_{tg} = 3.05$.\n",
    "\n",
    "Our next task is to convert the net stress equation into global stress. We do this by making a free-body cut through the crack plane. (See Example 6 on p. 86 of text). Since the force on the cut face acts slightly off-center, we need to also include a bending moment for the body to be in equilibrium."
   ]
  },
  {
   "cell_type": "code",
   "execution_count": 16,
   "metadata": {
    "collapsed": false
   },
   "outputs": [],
   "source": [
    "s = 6 #ksi, applied stress\n",
    "t = 0.375\n",
    "P = s*D*t #equivalent force from applied stress\n",
    "M = P*(2-d/2) #moment equal to force times eccentricity of load at mid-plane\n",
    "sn = P/(d*t) + M*(d/2)/(t*3.65**3/12) #net stress is force/area + My/I"
   ]
  },
  {
   "cell_type": "markdown",
   "metadata": {},
   "source": [
    "$K_{tg} \\sigma = K_{tn} \\sigma_n$ (equate net-stress concentration factor to global stress concentration factor)\n",
    "$$K_{tg} = K_{tn} \\sigma_n/\\sigma $$"
   ]
  },
  {
   "cell_type": "code",
   "execution_count": 17,
   "metadata": {
    "collapsed": false
   },
   "outputs": [
    {
     "name": "stdout",
     "output_type": "stream",
     "text": [
      "3.52786639144\n"
     ]
    }
   ],
   "source": [
    "K_tn = 2.5\n",
    "K_tg = K_tn*sn/s\n",
    "print K_tg"
   ]
  },
  {
   "cell_type": "markdown",
   "metadata": {},
   "source": [
    "We can now find what $\\sigma_A$ needs to be by equation $\\sigma_{max,B}$ with $\\sigma_{max,A}$\n",
    "\n",
    "$$\\sigma_{max,B} = \\sigma_{max,A}$$\n",
    "$$K_{tgB}\\sigma = K_{tgA}\\sigma_A$$\n",
    "$$\\frac{K_{tgB}}{K_{tgA}}\\sigma = \\sigma_A$$\n"
   ]
  },
  {
   "cell_type": "code",
   "execution_count": 18,
   "metadata": {
    "collapsed": false
   },
   "outputs": [
    {
     "name": "stdout",
     "output_type": "stream",
     "text": [
      "6.94006503235\n"
     ]
    }
   ],
   "source": [
    "sa = K_tg/3.05*s\n",
    "print sa"
   ]
  },
  {
   "cell_type": "markdown",
   "metadata": {},
   "source": [
    "Since $K_{IA} = K_{IB}$ for short cracks, we can now find $K_I$ using a crack on one side of a hole (eq 2.12)"
   ]
  },
  {
   "cell_type": "code",
   "execution_count": 19,
   "metadata": {
    "collapsed": false
   },
   "outputs": [
    {
     "data": {
      "text/plain": [
       "3.3649999999999998"
      ]
     },
     "execution_count": 19,
     "metadata": {},
     "output_type": "execute_result"
    }
   ],
   "source": [
    "rc = 1 #for short cracks c = 0\n",
    "B_3 = .7071+.7548+.3415+.6420+.9196\n",
    "Fw = 1/np.cos(np.pi*.25/4)\n",
    "Fww = 1 #because c=0\n",
    "B_s = B_3*Fw*Fww*K_tg/3.05\n",
    "B_s"
   ]
  },
  {
   "cell_type": "markdown",
   "metadata": {},
   "source": [
    "So the $\\beta_S$ for short cracks is 3.97. For long cracks we use the formula for edge cracks in a finite panel, where the extra geometry, $e$ is 0.35"
   ]
  },
  {
   "cell_type": "code",
   "execution_count": 20,
   "metadata": {
    "collapsed": false
   },
   "outputs": [],
   "source": [
    "e = 0.35\n",
    "W = 4.0\n",
    "c = np.linspace(0,1,100)\n",
    "aw = (c+e)/W\n",
    "B = 1.122 - 0.231*aw + 10.55*aw**2 - 21.71*aw**3 + 30.82*aw**4\n",
    "B_l = np.sqrt((c+e)/c)*B"
   ]
  },
  {
   "cell_type": "markdown",
   "metadata": {},
   "source": [
    "We now find the tangent curve to generate a cohesive plot"
   ]
  },
  {
   "cell_type": "code",
   "execution_count": 35,
   "metadata": {
    "collapsed": false
   },
   "outputs": [
    {
     "name": "stdout",
     "output_type": "stream",
     "text": [
      "3.96937748905\n",
      "3.96847289964\n"
     ]
    }
   ],
   "source": [
    "from scipy import interpolate\n",
    "#interpolate our discrete points\n",
    "spl = interpolate.splrep(c[1:],B_l[1:])\n",
    "x1 = 0.067 #guess, adjust until they match\n",
    "fa = interpolate.splev(x1,spl,der=0)\n",
    "fprime = interpolate.splev(x1,spl,der=1)\n",
    "print fa-fprime*x1\n",
    "print B_s #(to find x1)"
   ]
  },
  {
   "cell_type": "markdown",
   "metadata": {},
   "source": [
    "And we plot the full result"
   ]
  },
  {
   "cell_type": "code",
   "execution_count": 36,
   "metadata": {
    "collapsed": false
   },
   "outputs": [
    {
     "data": {
      "text/plain": [
       "<matplotlib.legend.Legend at 0x1eec3898>"
      ]
     },
     "execution_count": 36,
     "metadata": {},
     "output_type": "execute_result"
    },
    {
     "data": {
      "text/plain": [
       "<matplotlib.figure.Figure at 0x1e64a588>"
      ]
     },
     "metadata": {},
     "output_type": "display_data"
    },
    {
     "data": {
      "image/png": "[encoded data removed]",
      "text/plain": [
       "<matplotlib.figure.Figure at 0x1e4cab00>"
      ]
     },
     "metadata": {},
     "output_type": "display_data"
    }
   ],
   "source": [
    "import matplotlib.pyplot as plt\n",
    "import seaborn as sb\n",
    "sb.set(font_scale=1.5)\n",
    "%matplotlib inline\n",
    "plt.figure(figsize=(12,6))\n",
    "c = np.linspace(x1,3,100)#only plot B_l from end of tangent\n",
    "shortc = np.linspace(0,x1)\n",
    "aw = (c+e)/W\n",
    "B = 1.122 - 0.231*aw + 10.55*aw**2 - 21.71*aw**3 + 30.82*aw**4\n",
    "B_l = np.sqrt((c+e)/c)*B\n",
    "plt.figure(figsize=(12,6))\n",
    "plt.plot(c,B_l,label=r'$\\beta_L$')\n",
    "plt.plot(0,B_s,'o',label=r'$\\beta_S$')\n",
    "plt.plot(shortc,fa+fprime*(shortc-x1),label='fit line')\n",
    "plt.xlabel('c')\n",
    "plt.ylabel(r'$\\beta$')\n",
    "plt.legend(loc='best')"
   ]
  },
  {
   "cell_type": "markdown",
   "metadata": {},
   "source": [
    "Visually, we can see that for part a we are using only the long crack formula, calculating $K_I$:"
   ]
  },
  {
   "cell_type": "code",
   "execution_count": 37,
   "metadata": {
    "collapsed": false
   },
   "outputs": [
    {
     "name": "stdout",
     "output_type": "stream",
     "text": [
      "13.7642027123\n"
     ]
    }
   ],
   "source": [
    "c = 0.5\n",
    "a = c + e\n",
    "aw = a/W\n",
    "B = 1.122 - 0.231*aw + 10.55*aw**2 - 21.71*aw**3 + 30.82*aw**4\n",
    "K_I = s*np.sqrt(np.pi*a)*B\n",
    "print K_I"
   ]
  },
  {
   "cell_type": "markdown",
   "metadata": {},
   "source": [
    "So $K_I = 13.76 \\text{ksi } \\sqrt{\\text{in.}}$\n",
    "\n",
    "For part b we need to use our linear interpolation, we find that "
   ]
  },
  {
   "cell_type": "code",
   "execution_count": 38,
   "metadata": {
    "collapsed": false
   },
   "outputs": [
    {
     "name": "stdout",
     "output_type": "stream",
     "text": [
      "3.58953118858\n"
     ]
    }
   ],
   "source": [
    "c = 0.025\n",
    "B = fa+fprime*(c-x1)\n",
    "print B"
   ]
  },
  {
   "cell_type": "markdown",
   "metadata": {},
   "source": [
    "Substituting this $\\beta$ in gives"
   ]
  },
  {
   "cell_type": "code",
   "execution_count": 39,
   "metadata": {
    "collapsed": false
   },
   "outputs": [
    {
     "name": "stdout",
     "output_type": "stream",
     "text": [
      "6.03578723489\n"
     ]
    }
   ],
   "source": [
    "K_I = s*np.sqrt(np.pi*c)*B\n",
    "print K_I"
   ]
  },
  {
   "cell_type": "markdown",
   "metadata": {},
   "source": [
    "## 7\n",
    "\n",
    "First let us calculate the stress intensity factor without stiffeners, for a wide panel we have $K_I = \\sigma \\sqrt{\\pi a}$"
   ]
  },
  {
   "cell_type": "code",
   "execution_count": 40,
   "metadata": {
    "collapsed": false
   },
   "outputs": [
    {
     "name": "stdout",
     "output_type": "stream",
     "text": [
      "39.6332729761\n"
     ]
    }
   ],
   "source": [
    "a = 10./2.\n",
    "s = 10. #ksi\n",
    "K_I = s*np.sqrt(np.pi*a)\n",
    "print K_I"
   ]
  },
  {
   "cell_type": "markdown",
   "metadata": {},
   "source": [
    "We model the stiffeners using compounding with a stiffening effect of $\\beta_S=0.9$.\n",
    "Using Method I we find"
   ]
  },
  {
   "cell_type": "code",
   "execution_count": 41,
   "metadata": {
    "collapsed": false
   },
   "outputs": [
    {
     "name": "stdout",
     "output_type": "stream",
     "text": [
      "35.6699456785\n"
     ]
    }
   ],
   "source": [
    "K_I = s*np.sqrt(np.pi*a)*(1+(0.9-1))\n",
    "print K_I"
   ]
  },
  {
   "cell_type": "markdown",
   "metadata": {},
   "source": [
    "With Method 2 we find:"
   ]
  },
  {
   "cell_type": "code",
   "execution_count": 42,
   "metadata": {
    "collapsed": false
   },
   "outputs": [
    {
     "name": "stdout",
     "output_type": "stream",
     "text": [
      "35.6699456785\n"
     ]
    }
   ],
   "source": [
    "K_I = s*np.sqrt(np.pi*a)*0.9\n",
    "print K_I"
   ]
  },
  {
   "cell_type": "markdown",
   "metadata": {},
   "source": [
    "For this case, they are identical and provide a moderate reduction in stress intensity factor compared to the case with no stiffeners."
   ]
  },
  {
   "cell_type": "code",
   "execution_count": 43,
   "metadata": {
    "collapsed": false
   },
   "outputs": [
    {
     "data": {
      "text/plain": [
       "0.09848484848484844"
      ]
     },
     "execution_count": 43,
     "metadata": {},
     "output_type": "execute_result"
    }
   ],
   "source": [
    "(39.6-35.7)/39.6"
   ]
  },
  {
   "cell_type": "markdown",
   "metadata": {},
   "source": [
    "The stiffeners reduce the stress intensity factor by about 10%"
   ]
  },
  {
   "cell_type": "markdown",
   "metadata": {},
   "source": [
    "## 8\n",
    "\n",
    "For a corner crack as indicated in Problem 8, we can superpose the lug corner-crack and bending corner-crack solutions (p. 63 and p. 64)."
   ]
  },
  {
   "cell_type": "markdown",
   "metadata": {},
   "source": [
    "## 9\n",
    "\n",
    "If we assume that the load is transmitted equally between all bolts, we will have $P=2000$ lb. The portion for a tensile load is given by"
   ]
  },
  {
   "cell_type": "code",
   "execution_count": 44,
   "metadata": {
    "collapsed": false
   },
   "outputs": [
    {
     "name": "stdout",
     "output_type": "stream",
     "text": [
      "26252.0019303\n"
     ]
    }
   ],
   "source": [
    "c = .08\n",
    "a = .06\n",
    "D = .375\n",
    "w = 4\n",
    "t = .125\n",
    "P = 2000\n",
    "phi = np.pi/2\n",
    "z = (1+2*c/D*np.cos(.85*phi))**-1\n",
    "f0 = .7071 + .7548*z + .3415*z**2 + .642*z**3 + .9196*z**4\n",
    "f1 = .078*z + .7588*z**2 - .4293*z**3 + .0644*z**4 + .651*z**5\n",
    "d0 = 1+.13*z**2\n",
    "gp = ((w+D)/(w-D))**.5\n",
    "x = a/c\n",
    "v = a/t\n",
    "lam = (np.pi/2)*v**.5*((D+c)/(w-c))\n",
    "fw = (1/np.cos(lam)/np.cos(np.pi*D/(2*w)))**.5\n",
    "#a/c < 1\n",
    "f_phi = ((a/c*np.cos(phi))**2+np.sin(phi)**2)**.25\n",
    "f_x = (1+1.464*(a/c)**1.65)**-.5\n",
    "M0 = (1.13-0.09*x)+(-.54+.89/(.2+x))*v**2+(.5-1/(.65-x) + 14*(1-x)**24)*v**4\n",
    "g1 = 1 + (0.1+0.35*v**2)*(1-np.sin(phi))**2\n",
    "g3 = (1+0.04*x)*(1+0.1*(1-np.cos(phi))**2)*(0.85+0.15*v**.25)\n",
    "g4 = 1-0.7*(1-v)*(x-0.2)*(1-x)\n",
    "Gw = M0*g1*g3*g4*f_phi*f_x*fw\n",
    "G0 = f0/d0\n",
    "G1 = f1*gp/d0\n",
    "F0 = (G0*D/(2*w)+G1)*Gw\n",
    "KI_t = P/(D*t)*np.sqrt(np.pi*c)*F0\n",
    "print KI_t"
   ]
  },
  {
   "cell_type": "markdown",
   "metadata": {},
   "source": [
    "While the portion for bending is given as"
   ]
  },
  {
   "cell_type": "code",
   "execution_count": 45,
   "metadata": {
    "collapsed": false
   },
   "outputs": [
    {
     "name": "stdout",
     "output_type": "stream",
     "text": [
      "20266.4306001\n"
     ]
    }
   ],
   "source": [
    "M = 6000 * .125 #bending moment\n",
    "t = .125\n",
    "b = 2\n",
    "I = b*t**3/6\n",
    "r = D/2\n",
    "lam = 1/(1+(c/r)*np.cos(.85*phi))\n",
    "g2 = (1+.358*lam+1.425*lam**2-1.578*lam**3+2.156*lam**4)/(1+0.13*lam**2)\n",
    "# for a/c < 1\n",
    "M1 = 1.13-0.09*a/c\n",
    "M2 = -0.54 + 0.89/(0.2+a/c)\n",
    "M3 = 0.5 - 1/(.65+a/c)+14*(1-a/c)**4\n",
    "Q = 1+1.464*(a/c)**1.65\n",
    "g1 = 1 + (0.1+0.35*(a/t)**2)*(1-np.sin(phi))**2\n",
    "g3 = (1+0.04*a/c)*(1+0.1*(1-np.cos(phi))**2)*(0.85+0.15*(a/t)**.25)\n",
    "g4 = 1 - 0.7*(1-a/t)*(a/c-0.2)*(1-a/c)\n",
    "f_phi = ((a/c)**2*np.cos(phi)**2+np.sin(phi)**2)**.25\n",
    "G11 = -0.43-.74*a/c-0.84*(a/c)**2\n",
    "G12 = 1.25-1.19*a/c+4.39*(a/c)**2\n",
    "G13 = -1.94 + 4.22*a/c - 5.51*(a/c)**2\n",
    "G21 = -1.5 - 0.04*a/c - 1.73*(a/c)**2\n",
    "G22 = 1.71 - 3.17*a/c + 6.84*(a/c)**2\n",
    "G23 = -1.28 + 2.71*a/c - 5.22*(a/c)**2\n",
    "p = 0.1+1.3*a/t+1.1*a/c - 0.7*(a/c)*(a/t)\n",
    "n = 1\n",
    "fw = np.sqrt(1/np.cos(np.pi*r/(2*b))/np.cos(np.pi*(2*r+n*c)/(2*(b-c)+2*n*c)*np.sqrt(a/t)))\n",
    "Fch = (M1+M2*(a/t)**2+M3*(a/t)**4)*g1*g2*g3*g4*f_phi*fw\n",
    "H1 = 1 + G11*a/t+G12*(a/t)**2+G13*(a/t)**3\n",
    "H2 = 1 + G21*a/t + G22*(a/t)**2 + G23*(a/t)**3\n",
    "Hch = H1 + (H2-H1)*np.sin(phi)**p\n",
    "B = Hch*np.sqrt(a/(c*Q))*Fch\n",
    "s_b = M*t/(2*I)\n",
    "KI_b = s_b*np.sqrt(np.pi*c)*B\n",
    "print KI_b"
   ]
  },
  {
   "cell_type": "markdown",
   "metadata": {},
   "source": [
    "By superposition we can add these two solutions to get an estimate of the total stress intensity factor"
   ]
  },
  {
   "cell_type": "code",
   "execution_count": 46,
   "metadata": {
    "collapsed": false
   },
   "outputs": [
    {
     "name": "stdout",
     "output_type": "stream",
     "text": [
      "46518.4325304\n"
     ]
    }
   ],
   "source": [
    "KI = KI_t + KI_b\n",
    "print KI"
   ]
  },
  {
   "cell_type": "markdown",
   "metadata": {},
   "source": [
    "$K_I = 46.5 \\text{ksi } \\sqrt{\\text{in.}}$"
   ]
  },
  {
   "cell_type": "markdown",
   "metadata": {},
   "source": [
    "## 10\n",
    "\n",
    "For a very wide center-cracked plate, we use (2.6) and (2.7) (p 52 in text) with $a/W = 0$"
   ]
  },
  {
   "cell_type": "code",
   "execution_count": 47,
   "metadata": {
    "collapsed": false
   },
   "outputs": [
    {
     "name": "stdout",
     "output_type": "stream",
     "text": [
      "26501.1657695\n"
     ]
    }
   ],
   "source": [
    "B = 1\n",
    "P = 4650\n",
    "t = 0.2\n",
    "a = 0.49/2.\n",
    "KI = P/(t*np.sqrt(np.pi*a))*B\n",
    "print KI"
   ]
  },
  {
   "cell_type": "markdown",
   "metadata": {},
   "source": [
    "This gives $K_I = 26.5 \\text{ksi } \\sqrt{\\text{in.}}$"
   ]
  },
  {
   "cell_type": "markdown",
   "metadata": {},
   "source": [
    "## 11\n",
    "\n",
    "In Panel 1 we use the same expression as in problem 10, namely 2.6 and 2.7\n",
    "\n",
    "$$K_I = \\frac{P}{t \\sqrt{\\pi a}}\\beta \\tag{2.6}$$\n",
    "$$\\beta = \\frac{1 - 0.5\\left(\\frac{a}{W}\\right)+0.975\\left(\\frac{a}{W}\\right)^2 - 0.16\\left(\\frac{a}{W}\\right)^3}{\\sqrt{1-\\left(\\frac{a}{W}\\right)}} \\tag{2.7}$$"
   ]
  },
  {
   "cell_type": "markdown",
   "metadata": {},
   "source": [
    "In Panel 2, we need to use superposition to find an appropriate expression. See the following figure to view the superposition we use."
   ]
  },
  {
   "cell_type": "code",
   "execution_count": 48,
   "metadata": {
    "collapsed": false
   },
   "outputs": [
    {
     "data": {
      "image/png": "[encoded data removed]",
      "text/plain": [
       "<IPython.core.display.Image object>"
      ]
     },
     "execution_count": 48,
     "metadata": {},
     "output_type": "execute_result"
    }
   ],
   "source": [
    "from IPython.display import Image\n",
    "Image('1-11a.png')"
   ]
  },
  {
   "cell_type": "markdown",
   "metadata": {},
   "source": [
    "Since Panels 2 and 4 will give equivalent stress intensity factors, we can add Panel 4 to both sides to get\n",
    "$$K_{I2} + K_{I4} = K_{I1} + K_{I3}$$\n",
    "$$2K_{I2} = K_{I1} + K_{I3}$$\n",
    "$$K_{I2} = \\frac{1}{2}(K_{I1} + K_{I3})$$\n",
    "\n",
    "We can now substutite the known equations for $K_{I1}$ and $K_{I3}$ to find\n",
    "$$K_{I2} = \\frac{1}{2}\\left(\\frac{P}{t \\sqrt{\\pi a}}\\beta_1 + \\sigma \\sqrt{\\pi a} \\sqrt{\\sec (\\pi a/W)} \\right)$$\n",
    "$$\\beta_1 = \\frac{1 - 0.5\\left(\\frac{a}{W}\\right)+0.975\\left(\\frac{a}{W}\\right)^2 - 0.16\\left(\\frac{a}{W}\\right)^3}{\\sqrt{1-\\left(\\frac{a}{W}\\right)}}$$"
   ]
  },
  {
   "cell_type": "markdown",
   "metadata": {},
   "source": [
    "## 12\n",
    "\n",
    "There are many different geometric configurations we could use to make this comparison. Here I will use two different configurations: one in which $R = L = a/2$ and one in which I hold $R$ constant, making $L = a - R$. In both cases I assume the panel is very wide."
   ]
  },
  {
   "cell_type": "code",
   "execution_count": 49,
   "metadata": {
    "collapsed": false
   },
   "outputs": [
    {
     "data": {
      "text/plain": [
       "<matplotlib.text.Text at 0x1e583e80>"
      ]
     },
     "execution_count": 49,
     "metadata": {},
     "output_type": "execute_result"
    },
    {
     "data": {
      "image/png": "[encoded data removed]",
      "text/plain": [
       "<matplotlib.figure.Figure at 0x1e9bddd8>"
      ]
     },
     "metadata": {},
     "output_type": "display_data"
    }
   ],
   "source": [
    "#case 1, r = L = a/2\n",
    "a = np.linspace(0,5)\n",
    "r = a/2\n",
    "l = a/2\n",
    "K_I1 = np.sqrt(np.pi*a)\n",
    "\n",
    "#beta2 = 0, c/r = l/r = 1, w/d = infinity, r/w = 0\n",
    "Fcr = (.3404+3.8172)/(1+3.9273-0.00695)\n",
    "Fw = 1\n",
    "Fww = 1\n",
    "B = Fcr*Fw*Fww\n",
    "K_I2 = np.sqrt(np.pi*l)*B\n",
    "\n",
    "import matplotlib.pyplot as plt\n",
    "import seaborn as sb\n",
    "sb.set(font_scale=1.5)\n",
    "%matplotlib inline\n",
    "plt.figure(figsize=(12,6))\n",
    "plt.plot(a,K_I1,label='center crack')\n",
    "plt.plot(a,K_I2,label='hole crack')\n",
    "plt.legend(loc='best')\n",
    "plt.xlabel('a')\n",
    "plt.ylabel('$K_I$')\n",
    "plt.title('Case 1: $L = R = a/2$')"
   ]
  },
  {
   "cell_type": "code",
   "execution_count": 50,
   "metadata": {
    "collapsed": false
   },
   "outputs": [
    {
     "data": {
      "text/plain": [
       "<matplotlib.text.Text at 0x1e628a20>"
      ]
     },
     "execution_count": 50,
     "metadata": {},
     "output_type": "execute_result"
    },
    {
     "data": {
      "image/png": "[encoded data removed]",
      "text/plain": [
       "<matplotlib.figure.Figure at 0x1e61e240>"
      ]
     },
     "metadata": {},
     "output_type": "display_data"
    }
   ],
   "source": [
    "#case 2, r = const, L = a - R\n",
    "r = 0.5\n",
    "a = np.linspace(r,5)\n",
    "l = a - r\n",
    "K_I1 = np.sqrt(np.pi*a)\n",
    "#beta2 = 0, c/r = l/r, w/d = infinity, r/w = 0\n",
    "cr = l/r\n",
    "Fcr = (.3404+3.8172*cr)/(1+3.9273*cr-0.00695*cr**2)\n",
    "Fw = 1\n",
    "Fww = 1\n",
    "B = Fcr*Fw*Fww\n",
    "K_I2 = np.sqrt(np.pi*l)*B\n",
    "\n",
    "plt.figure(figsize=(12,6))\n",
    "plt.plot(a,K_I1,label='center crack')\n",
    "plt.plot(a,K_I2,label='hole crack')\n",
    "plt.legend(loc='best')\n",
    "plt.xlabel('a')\n",
    "plt.ylabel('$K_I$')\n",
    "plt.title('Case 2: $R = 0.5$, $L = a - R$')"
   ]
  },
  {
   "cell_type": "markdown",
   "metadata": {},
   "source": [
    "In both cases, the center crack has a larger stress intensity than the hole crack, although for a constant hole size, the longer the crack is the more the solutions appear to converge."
   ]
  },
  {
   "cell_type": "code",
   "execution_count": 51,
   "metadata": {
    "collapsed": false
   },
   "outputs": [
    {
     "data": {
      "text/plain": [
       "<matplotlib.text.Text at 0x1f35a2b0>"
      ]
     },
     "execution_count": 51,
     "metadata": {},
     "output_type": "execute_result"
    },
    {
     "data": {
      "image/png": "[encoded data removed]",
      "text/plain": [
       "<matplotlib.figure.Figure at 0x1e61e208>"
      ]
     },
     "metadata": {},
     "output_type": "display_data"
    }
   ],
   "source": [
    "#case 2, r = const, L = a - R\n",
    "r = 0.5\n",
    "a = np.linspace(r,20)\n",
    "l = a - r\n",
    "K_I1 = np.sqrt(np.pi*a)\n",
    "#beta2 = 0, c/r = l/r, w/d = infinity, r/w = 0\n",
    "cr = l/r\n",
    "Fcr = (.3404+3.8172*cr)/(1+3.9273*cr-0.00695*cr**2)\n",
    "Fw = 1\n",
    "Fww = 1\n",
    "B = Fcr*Fw*Fww\n",
    "K_I2 = np.sqrt(np.pi*l)*B\n",
    "\n",
    "plt.figure(figsize=(12,6))\n",
    "plt.plot(a,K_I1,label='center crack')\n",
    "plt.plot(a,K_I2,label='hole crack')\n",
    "plt.legend(loc='best')\n",
    "plt.xlabel('a')\n",
    "plt.ylabel('$K_I$')\n",
    "plt.title('Case 2: $R = 0.5$, $L = a - R$')"
   ]
  },
  {
   "cell_type": "markdown",
   "metadata": {},
   "source": [
    "Indeed, when we allow the crack to get longer, we find that the hole crack begins to have a larger stress intensity than the center crack."
   ]
  },
  {
   "cell_type": "markdown",
   "metadata": {},
   "source": [
    "## 13\n",
    "\n",
    "For this problem we can use a superposition we already found previously in Problem 11. If we superpose the solution for 11 with  a center crack under remote stress we will have the same conditions as here."
   ]
  },
  {
   "cell_type": "code",
   "execution_count": 52,
   "metadata": {
    "collapsed": false
   },
   "outputs": [
    {
     "data": {
      "image/png": "[encoded data removed]",
      "text/plain": [
       "<IPython.core.display.Image object>"
      ]
     },
     "execution_count": 52,
     "metadata": {},
     "output_type": "execute_result"
    }
   ],
   "source": [
    "Image('1-13.png')"
   ]
  },
  {
   "cell_type": "markdown",
   "metadata": {},
   "source": [
    "This gives:\n",
    "\n",
    "$$K_{I} = \\frac{1}{2}\\left(\\frac{P}{t \\sqrt{\\pi a}}\\beta_1 + (\\sigma_2-\\sigma_1) \\sqrt{\\pi a} \\sqrt{\\sec (\\pi a/W)} \\right) + \\sigma_1 \\sqrt{\\pi a}\\sqrt{\\sec (\\pi a/W)}$$\n",
    "$$\\beta_1 = \\frac{1 - 0.5\\left(\\frac{a}{W}\\right)+0.975\\left(\\frac{a}{W}\\right)^2 - 0.16\\left(\\frac{a}{W}\\right)^3}{\\sqrt{1-\\left(\\frac{a}{W}\\right)}}$$\n",
    "\n",
    "Which we can simplify to\n",
    "$$K_{I} = \\frac{1}{2}\\left(\\frac{P}{t \\sqrt{\\pi a}}\\beta_1 + (\\sigma_2+\\sigma_1) \\sqrt{\\pi a} \\sqrt{\\sec (\\pi a/W)} \\right)$$"
   ]
  },
  {
   "cell_type": "markdown",
   "metadata": {},
   "source": [
    "## 14\n",
    "In this problem we have the same configuration as in (2.11) (Case 11 on p 53 of text). We \"plug and chug.\""
   ]
  },
  {
   "cell_type": "code",
   "execution_count": 53,
   "metadata": {
    "collapsed": false
   },
   "outputs": [
    {
     "name": "stdout",
     "output_type": "stream",
     "text": [
      "14347.8596934\n"
     ]
    }
   ],
   "source": [
    "c = 1.\n",
    "t = 0.25\n",
    "P = 8000.*t\n",
    "D = 0.375\n",
    "W = 6.\n",
    "r = D/2.\n",
    "cr = c/r\n",
    "Fcr = (.3404+3.8172*cr)/(1+3.9273*cr-0.00695*cr**2)\n",
    "Fw = np.sqrt(1/np.cos(np.pi*r/W)/np.cos(np.pi*(r+c)/W))\n",
    "N = W/D + 2.5\n",
    "if N > 4.5:\n",
    "    N = 4.5\n",
    "Fww = 1-((1.32*W/D-0.14)**-(.98+(0.1*W/D)**.1) - 0.02)*(2*c/(W-D))**N\n",
    "F3 = 0.098 + 0.3592*np.exp(-3.5089*cr) + 0.3817*np.exp(-0.5515*cr)\n",
    "s = 5000.\n",
    "s_br = P/(D*t)\n",
    "B1 = Fcr*Fw*Fww\n",
    "B2 = s_br/s*F3*Fw*Fww\n",
    "B = B1 + B2\n",
    "KI = s*np.sqrt(np.pi*c)*B\n",
    "print KI"
   ]
  },
  {
   "cell_type": "markdown",
   "metadata": {},
   "source": [
    "So the stress intensity factor for this case is $K_I = 14.3 \\text{ksi } \\sqrt{ \\text{in.}}$"
   ]
  },
  {
   "cell_type": "markdown",
   "metadata": {},
   "source": [
    "## 15\n",
    "\n",
    "For part a we have"
   ]
  },
  {
   "cell_type": "code",
   "execution_count": 54,
   "metadata": {
    "collapsed": false
   },
   "outputs": [
    {
     "name": "stdout",
     "output_type": "stream",
     "text": [
      "48.6260043063\n"
     ]
    }
   ],
   "source": [
    "a = 6.0\n",
    "s = 10.0\n",
    "w = 15.0\n",
    "KIa = 1.12*s*np.sqrt(np.pi*a)\n",
    "print KIa"
   ]
  },
  {
   "cell_type": "markdown",
   "metadata": {},
   "source": [
    "Which gives $K_I = 48.6 \\text{ksi } \\sqrt{ \\text{in.}}$"
   ]
  },
  {
   "cell_type": "markdown",
   "metadata": {},
   "source": [
    "In part b we use (2.4a) (case 5 p 51)"
   ]
  },
  {
   "cell_type": "code",
   "execution_count": 55,
   "metadata": {
    "collapsed": false
   },
   "outputs": [
    {
     "name": "stdout",
     "output_type": "stream",
     "text": [
      "91.9184305974\n"
     ]
    }
   ],
   "source": [
    "aw = a/w\n",
    "B = 1.122 - 0.231*aw + 10.55*aw**2 - 21.71*aw**3 + 30.82*aw**4\n",
    "KIb = s*np.sqrt(np.pi*a)*B\n",
    "print KIb"
   ]
  },
  {
   "cell_type": "markdown",
   "metadata": {},
   "source": [
    "Which gives $K_I = 91.9 \\text{ksi } \\sqrt{ \\text{in.}}$\n",
    "\n",
    "Here the difference is signficant. The assumptions that $\\beta = 1.12$ is only appropriate when $a/W$ is very small, as in the following where we consider $a=0.5$"
   ]
  },
  {
   "cell_type": "code",
   "execution_count": 56,
   "metadata": {
    "collapsed": false
   },
   "outputs": [
    {
     "name": "stdout",
     "output_type": "stream",
     "text": [
      "14.0371183379\n",
      "14.1029950047\n"
     ]
    }
   ],
   "source": [
    "a = 0.5\n",
    "s = 10.0\n",
    "w = 15.0\n",
    "KIa = 1.12*s*np.sqrt(np.pi*a)\n",
    "print KIa\n",
    "\n",
    "aw = a/w\n",
    "B = 1.122 - 0.231*aw + 10.55*aw**2 - 21.71*aw**3 + 30.82*aw**4\n",
    "KIb = s*np.sqrt(np.pi*a)*B\n",
    "print KIb"
   ]
  },
  {
   "cell_type": "markdown",
   "metadata": {},
   "source": [
    "## 16\n",
    "\n",
    "In this problem we compare (2.12) (case 12 p 53) to 3.1 (case 18 p. 56). For a through crack we have"
   ]
  },
  {
   "cell_type": "code",
   "execution_count": 57,
   "metadata": {
    "collapsed": false
   },
   "outputs": [
    {
     "name": "stdout",
     "output_type": "stream",
     "text": [
      "24.3127183417\n"
     ]
    }
   ],
   "source": [
    "d = 0.375\n",
    "r = d/2\n",
    "c = .075\n",
    "w = 0.96\n",
    "t = 0.15\n",
    "s = 20\n",
    "rrc = r/(r+c)\n",
    "cr = c/r\n",
    "#no bearing stress, B2 = 0\n",
    "B3 = 0.7071 + 0.7548*rrc + 0.3415*rrc**2 + .6420*rrc**3 + 0.9196*rrc**4\n",
    "Fw = np.sqrt(1/np.cos(np.pi*r/w)/np.cos(np.pi*(r+c/2)/(w-c)))\n",
    "N = 2.65 - 0.24*(2.75-w/d)**2\n",
    "if N < 2.275:\n",
    "    N = 2.275\n",
    "Fww = 1-N**(-w/d)*(2*c/(w-d))**(w/d+0.5)\n",
    "B = B3*Fw*Fww\n",
    "K_Ia = s*np.sqrt(np.pi*c)*B\n",
    "print K_Ia"
   ]
  },
  {
   "cell_type": "markdown",
   "metadata": {},
   "source": [
    "Which gives a stress intensity of $K_I = 24.3 \\text{ksi } \\sqrt{ \\text{in.}}$\n",
    "\n",
    "For a quarter circular crack, we use 3.1 (with $a=c$). Also it does not matter what we use for $\\phi$ in this case, so we let $\\phi = 0$"
   ]
  },
  {
   "cell_type": "code",
   "execution_count": 58,
   "metadata": {
    "collapsed": false
   },
   "outputs": [
    {
     "name": "stdout",
     "output_type": "stream",
     "text": [
      "22.1230461218\n"
     ]
    },
    {
     "data": {
      "image/png": "[encoded data removed]",
      "text/plain": [
       "<matplotlib.figure.Figure at 0x1ea61160>"
      ]
     },
     "metadata": {},
     "output_type": "display_data"
    }
   ],
   "source": [
    "import matplotlib.pyplot as plt\n",
    "import seaborn as sb\n",
    "sb.set(font_scale=1.5)\n",
    "%matplotlib inline\n",
    "\n",
    "a = c\n",
    "phi = np.linspace(0,np.pi/2)\n",
    "n = 1\n",
    "b = w/2\n",
    "fw = np.sqrt(1/np.cos(np.pi*r/(2*b))/np.cos((np.pi*(2*r+n*c)/(4*(b-c)+2*n*c)*np.sqrt(a/t))))\n",
    "lam = 1/(1+c/r*np.cos(0.85*phi))\n",
    "g2 = (1+0.358*lam+1.425*lam**2-1.578*lam**3+2.156*lam**4)/(1+0.13*lam**2)\n",
    "M1 = 1.13 - 0.09*a/c\n",
    "M2 = -0.54 + 0.89/(0.2+a/c)\n",
    "M3 = 0.5 - 1/(0.65+a/c) + 14*(1-a/c)**24\n",
    "Q = 1+1.464*(a/c)**1.65\n",
    "g1 = 1+(0.1+0.35*(a/t)**2)*(1-np.sin(phi))**2\n",
    "g3 = (1+0.04*(a/c))*(1+0.1*(1-np.cos(phi))**2)*(0.85+0.15*(a/t)**.25)\n",
    "g4 = 1 - 0.7*(1-a/t)*(a/c-0.2)*(1-a/c)\n",
    "f_phi = ((a/c)**2*np.cos(phi)**2+np.sin(phi)**2)**.25\n",
    "Fch = (M1 +M2*(a/t)**2 + M3*(a/t)**4)*g1*g2*g3*g4*f_phi*fw\n",
    "B = np.sqrt(1/Q)*Fch\n",
    "KI_double = s*np.sqrt(np.pi*a)*B\n",
    "KI_b = np.sqrt((4/np.pi + a*c/(2*t*r))/(4/np.pi+a*c/(t*r)))*KI_double\n",
    "plt.figure()\n",
    "plt.plot(phi,KI_b)\n",
    "print max(KI_b)"
   ]
  },
  {
   "cell_type": "markdown",
   "metadata": {},
   "source": [
    "Thus the stress intensity factor for a quarter circular crack is only $K_I = 22.1 \\text{ksi } \\sqrt{ \\text{in.}}$"
   ]
  },
  {
   "cell_type": "markdown",
   "metadata": {},
   "source": [
    "## 17\n",
    "\n",
    "Although this looks like it would fit the geometry in (2.11) (case 11 p 53), a remote stress of 0 will give an error in the formula, so instead we operate under the assumption that the circle is so small that we can use center-crack formulas.\n",
    "This superposition will be identical to problem 11."
   ]
  },
  {
   "cell_type": "code",
   "execution_count": 59,
   "metadata": {
    "collapsed": false
   },
   "outputs": [
    {
     "data": {
      "image/png": "[encoded data removed]",
      "text/plain": [
       "<IPython.core.display.Image object>"
      ]
     },
     "execution_count": 59,
     "metadata": {},
     "output_type": "execute_result"
    }
   ],
   "source": [
    "Image('1-11a.png')"
   ]
  },
  {
   "cell_type": "markdown",
   "metadata": {},
   "source": [
    "Which gives\n",
    "\n",
    "$$K_{I2} = \\frac{1}{2}\\left(\\frac{P}{t \\sqrt{\\pi a}}\\beta_1 + \\sigma \\sqrt{\\pi a} \\sqrt{\\sec (\\pi a/W)} \\right)$$\n",
    "$$\\beta_1 = \\frac{1 - 0.5\\left(\\frac{a}{W}\\right)+0.975\\left(\\frac{a}{W}\\right)^2 - 0.16\\left(\\frac{a}{W}\\right)^3}{\\sqrt{1-\\left(\\frac{a}{W}\\right)}}$$"
   ]
  },
  {
   "cell_type": "code",
   "execution_count": null,
   "metadata": {
    "collapsed": true
   },
   "outputs": [],
   "source": []
  }
 ],
 "metadata": {
  "kernelspec": {
   "display_name": "Python 2",
   "language": "python",
   "name": "python2"
  },
  "language_info": {
   "codemirror_mode": {
    "name": "ipython",
    "version": 2
   },
   "file_extension": ".py",
   "mimetype": "text/x-python",
   "name": "python",
   "nbconvert_exporter": "python",
   "pygments_lexer": "ipython2",
   "version": "2.7.11"
  }
 },
 "nbformat": 4,
 "nbformat_minor": 0
}
