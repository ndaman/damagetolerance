{
 "cells": [
  {
   "cell_type": "markdown",
   "metadata": {},
   "source": [
    "## 1\n",
    "\n",
    "For a very wide, center-cracked panel with $R=0$ we have\n",
    "\n",
    "$$\\Delta K = \\sigma \\sqrt{\\pi a} - 0 = 3.4a^{-1} \\sqrt{\\pi a}$$\n",
    "\n",
    "Substituting this expression into the Paris equation gives\n",
    "\n",
    "$$\\frac{da}{dN} = 10^{-9}\\left(3.4a^{-1} \\sqrt{\\pi a} \\right)^4$$\n",
    "\n",
    "Carrying through the exponent and simplifying gives\n",
    "\n",
    "$$\\frac{da}{dN} = 10^{-9}(133.6)a^{-2} \\pi^2 $$\n",
    "\n",
    "We bring $a^2$ to the left-hand side and integrate from $a=1$ to $a=4$ to find $N_f$\n",
    "\n",
    "$$a^2 da = 10^{-9}(133.6)\\pi^2 dN$$\n",
    "\n",
    "After integration and solving for $N_f$\n",
    "\n",
    "$$ N_f = \\frac{64-1}{3 (10^{-9}) (133.6) (\\pi^2)}$$"
   ]
  },
  {
   "cell_type": "code",
   "execution_count": 2,
   "metadata": {
    "collapsed": false
   },
   "outputs": [
    {
     "data": {
      "text/plain": [
       "15926233.955756685"
      ]
     },
     "execution_count": 2,
     "metadata": {},
     "output_type": "execute_result"
    }
   ],
   "source": [
    "import numpy as np\n",
    "(64-1)/(3*1e-9*133.6*np.pi**2)"
   ]
  },
  {
   "cell_type": "markdown",
   "metadata": {},
   "source": [
    "We find $N_f = 15.9$ million cycles."
   ]
  },
  {
   "cell_type": "markdown",
   "metadata": {},
   "source": [
    "## 2\n",
    "\n",
    "For a constant stress we can follow the same procedure as in problem 1 and find, before integration:\n",
    "\n",
    "$$a^{-2} da = 81(10^{-9})\\pi^2 1.122^4 $$\n",
    "\n",
    "And after integrating\n",
    "\n",
    "$$-a_N^{-1} +a_0^{-1} = 81(10^{-9}) \\pi^2 1.122^4 N_f$$\n",
    "\n",
    "We can substitute known values ($N_f = 50000$ and $a_0 = 0.5$) and solve for $a_N$"
   ]
  },
  {
   "cell_type": "code",
   "execution_count": 59,
   "metadata": {
    "collapsed": false
   },
   "outputs": [
    {
     "data": {
      "text/plain": [
       "0.516354768171825"
      ]
     },
     "execution_count": 59,
     "metadata": {},
     "output_type": "execute_result"
    }
   ],
   "source": [
    "an = 1/(1/.5 - 81*1e-9*np.pi**2*1.122**4*50000)\n",
    "an"
   ]
  },
  {
   "cell_type": "markdown",
   "metadata": {},
   "source": [
    "Thus after 50000 cycles of $\\sigma = 3 \\text{ ksi}$ we find $a = 0.516 \\text{ in}$"
   ]
  },
  {
   "cell_type": "markdown",
   "metadata": {},
   "source": [
    "## 3\n",
    "\n",
    "First we check to see at what crack length the stress intensity will exceed the fracture toughness. We use the larger \"strong flick\" bending moment in this case, since that is the most likely to cause failure."
   ]
  },
  {
   "cell_type": "code",
   "execution_count": 60,
   "metadata": {
    "collapsed": false
   },
   "outputs": [
    {
     "name": "stdout",
     "output_type": "stream",
     "text": [
      "[ 0.21815477]\n"
     ]
    }
   ],
   "source": [
    "import numpy as np\n",
    "from scipy.optimize import fsolve\n",
    "Kc = 70.0 #ksi sqrt(in)\n",
    "M = 5e-3 #k-lb in\n",
    "M2 = 3e-3 #k-lb in\n",
    "W = 0.25 #in\n",
    "t = 0.05 #in\n",
    "sigma = 6*M/(t*W**2) #strong max tensile stress\n",
    "sigma2 = 6*M2/(t*W**2) #regular max tensile stress\n",
    "def beta(a,w):\n",
    "    return np.sqrt(2*w/(np.pi*a)*np.tan(np.pi*a/(2*w)))*((.923+.199*(1-np.sin(np.pi*a/(2*w)))**4)/(np.cos(np.pi*a/(2*w))))\n",
    "def K_opt(a,s,w):\n",
    "    return (s*np.sqrt(np.pi*a)*beta(a,w) - Kc)**2\n",
    "a0 = 0.01 #in, initial crack length\n",
    "a_frac = fsolve(K_opt,0.2,args=(sigma,W))\n",
    "print a_frac"
   ]
  },
  {
   "cell_type": "markdown",
   "metadata": {},
   "source": [
    "We find that for $K \\ge K_c$ would require $a = 0.218\\text{ in}$, which we will use as the failure crack length for crack propagation analysis. We can also check for when the net-section bending stress would exceed the yield strength. In bending this is a complex problem, but we can approximate it by simply letting $W = W-a$ during the calculation of the inertia term. The yield strength of 7075-T6 aluminum in this case is $\\sigma_{YS} = 68 \\text{ ksi}$."
   ]
  },
  {
   "cell_type": "code",
   "execution_count": 61,
   "metadata": {
    "collapsed": false
   },
   "outputs": [
    {
     "name": "stdout",
     "output_type": "stream",
     "text": [
      "[ 0.15606636]\n"
     ]
    }
   ],
   "source": [
    "def sig_opt(a,s,w):\n",
    "    return (68-6*M/(t*(w-a)**2))**2\n",
    "a_yield = fsolve(sig_opt,0.2,args=(sigma,W))\n",
    "print a_yield"
   ]
  },
  {
   "cell_type": "markdown",
   "metadata": {},
   "source": [
    "We find that net-section yield will occur when $a=0.156 \\text{ in}$ which is less than for fracture, so we will consider this crack length the failure length for our purposes.\n",
    "\n",
    "In this problem, the flicks give a cyclic stress with a minimum bending moment of 0 (before the flick) and peacks of 3 in-lb for regular flicks and 5 in-lb for \"strong flicks.\" Since $\\sigma_{min}=0$, we have $R=0$, which gives $Z=1$ in the Boeing-Walker equation. We can use the numerical integration algorithm for a variable load to predict the number of cycles to failure for Dr. Smith's pen clip."
   ]
  },
  {
   "cell_type": "code",
   "execution_count": 62,
   "metadata": {
    "collapsed": false
   },
   "outputs": [
    {
     "name": "stdout",
     "output_type": "stream",
     "text": [
      "0.219611493176\n",
      "1047892.0\n"
     ]
    }
   ],
   "source": [
    "mt = 24.0\n",
    "p = 3.5\n",
    "def K(a,s,w):\n",
    "    return s*np.sqrt(np.pi*a)*beta(a,w)\n",
    "a = 0.01\n",
    "KI = K(a,sigma,W)\n",
    "N = 1\n",
    "while KI < Kc and a < a_frac:\n",
    "    if N%11 == 0:\n",
    "        #remainder divided by 11=0, strong flick\n",
    "        KI = K(a,sigma2,W)\n",
    "        dadN = 1e-4*(KI/mt)**p\n",
    "        dN = 1.0\n",
    "        N = N + dN\n",
    "        a = a+dN*dadN\n",
    "    else:\n",
    "        #weak flick\n",
    "        #10 regular flicks\n",
    "        KI = K(a,sigma,W)\n",
    "        dadN = 1e-4*(KI/mt)**p\n",
    "        dN = 1.0\n",
    "        N = N + dN\n",
    "        a = a+dN*dadN\n",
    "print a\n",
    "print N"
   ]
  },
  {
   "cell_type": "markdown",
   "metadata": {},
   "source": [
    "Thus we expect the part to eventually fail after 1.05 million cycles.\n",
    "\n",
    "Note: we have neglected the effects of Region III in this problem, which leads to a non-conservative prediction. Also, it is interesting to note that neglecting net-section yield would give a very similar number of cycles to failure in this problem, 1046757 for net section yield and 1047892 for fracture. This will not always be the case."
   ]
  },
  {
   "cell_type": "markdown",
   "metadata": {},
   "source": [
    "## 4\n",
    "\n",
    "Here we will compare the three retardation models we have learned, Wheeler, Willenborg, and Closure."
   ]
  },
  {
   "cell_type": "code",
   "execution_count": 106,
   "metadata": {
    "collapsed": false
   },
   "outputs": [],
   "source": [
    "#load plotting libraries\n",
    "from matplotlib import pyplot as plt\n",
    "import seaborn as sb\n",
    "sb.set(font_scale=1.5)\n",
    "%matplotlib inline\n",
    "\n",
    "def K(a,s):\n",
    "    return np.sqrt(np.pi*a)*s\n",
    "\n",
    "p = 3.5\n",
    "q = 0.6\n",
    "mt = 24.0\n",
    "a_no = [0.25] #in\n",
    "a_wil = [0.25]\n",
    "a_whe = [0.25]\n",
    "a_clo = [0.25]\n",
    "s = 20.0 #ksi\n",
    "R = 5.0/20.0\n",
    "Z = (1-R)**q\n",
    "N = 0\n",
    "while N < 5000:\n",
    "    #no overload, no retardation\n",
    "    KI = K(a_no[-1],s)\n",
    "    dadN = 1e-4*(KI*Z/mt)**p\n",
    "    dN = 1.0\n",
    "    N = N + dN\n",
    "    a_no.append(a_no[-1]+dN*dadN)\n",
    "    a_wil.append(a_wil[-1]+dN*dadN)\n",
    "    a_whe.append(a_whe[-1]+dN*dadN)\n",
    "    a_clo.append(a_clo[-1]+dN*dadN)"
   ]
  },
  {
   "cell_type": "code",
   "execution_count": 107,
   "metadata": {
    "collapsed": false
   },
   "outputs": [
    {
     "data": {
      "text/plain": [
       "<matplotlib.text.Text at 0xccf9978>"
      ]
     },
     "execution_count": 107,
     "metadata": {},
     "output_type": "execute_result"
    },
    {
     "data": {
      "image/png": "[encoded data removed]",
      "text/plain": [
       "<matplotlib.figure.Figure at 0xc670400>"
      ]
     },
     "metadata": {},
     "output_type": "display_data"
    }
   ],
   "source": [
    "# overload\n",
    "sys = 68.0 #yield strength\n",
    "s = 40.0\n",
    "R = 5.0/40.0\n",
    "Z = (1-R)**q\n",
    "KI = K(a_no[-1],s)\n",
    "dadN = 1e-4*(KI*Z/mt)**p\n",
    "N = N + 1\n",
    "a_no.append(a_no[-1]+dN*dadN)\n",
    "a_wil.append(a_wil[-1]+dN*dadN)\n",
    "a_whe.append(a_whe[-1]+dN*dadN)\n",
    "a_clo.append(a_clo[-1]+dN*dadN)\n",
    "#overload plastic zone\n",
    "r_ol = 1/(2*np.pi)*(KI/sys)**2\n",
    "a_ol = a_no[-1]\n",
    "K_ol = KI\n",
    "\n",
    "#regular loading returns\n",
    "s = 20.0\n",
    "R = 5.0/20.0\n",
    "Z = (1-R)**q\n",
    "#no retardation\n",
    "while N < 20000:\n",
    "    KI = K(a_no[-1],s)\n",
    "    dadN = 1e-4*(KI*Z/mt)**p\n",
    "    dN = 1.0\n",
    "    N = N + dN\n",
    "    a_no.append(a_no[-1]+dN*dadN)\n",
    "\n",
    "N = 5001\n",
    "#wheeler retardation\n",
    "m = 1.5\n",
    "while N < 20000:\n",
    "    KI = K(a_whe[-1],s)\n",
    "    rpi = 1/(2*np.pi)*(KI/sys)**2\n",
    "    if (a_whe[-1] + rpi) < (a_ol + r_ol):\n",
    "        phi = (rpi/(a_ol+r_ol-a_whe[-1]))**m\n",
    "    else:\n",
    "        phi = 1.0\n",
    "    dadN = phi*1e-4*(KI*Z/mt)**p\n",
    "    dN = 1.0\n",
    "    N = N + dN\n",
    "    a_whe.append(a_whe[-1]+dN*dadN)\n",
    "\n",
    "N = 5001\n",
    "#willenborg retardation\n",
    "Kth = 3.0\n",
    "sol = 2.0\n",
    "while N < 20000:\n",
    "    Kmax = K(a_wil[-1],s)\n",
    "    rpi = 1.0/(2.0*np.pi)*(Kmax/sys)**2.0\n",
    "    if (a_wil[-1] + rpi) < (a_ol + r_ol):\n",
    "        phi = (1.0-Kth/Kmax)/(sol-1.0)\n",
    "        KI = Kmax-phi*(K_ol*np.sqrt(1.0-(a_wil[-1]-a_ol)/r_ol)-Kmax)\n",
    "    else:\n",
    "        KI = Kmax\n",
    "    dadN = 1e-4*(KI*Z/mt)**p\n",
    "    dN = 1.0\n",
    "    N = N + dN\n",
    "    a_wil.append(a_wil[-1]+dN*dadN)\n",
    "\n",
    "N = 5001\n",
    "#closure retardation\n",
    "Cf0 = 0.3\n",
    "Cf = (1.0-(1.0-Cf0)*(1.0+0.6*R)*(1.0-R))\n",
    "Z_c = (1-Cf)**q\n",
    "while N < 20000:\n",
    "    KI = K(a_clo[-1],s)\n",
    "    rpi = 1/(2*np.pi)*(KI/sys)**2\n",
    "    if (a_clo[-1] + rpi) < (a_ol + r_ol):\n",
    "        dadN = 1e-4*(KI*Z_c/mt)**p\n",
    "    else:\n",
    "        dadN = 1e-4*(KI*Z/mt)**p\n",
    "    dN = 1.0\n",
    "    N = N + dN\n",
    "    a_clo.append(a_clo[-1]+dN*dadN)\n",
    "    \n",
    "plt.figure(figsize=(12,6))\n",
    "plt.plot(np.linspace(0,len(a_no),len(a_no)),a_no,label='no retardation')\n",
    "plt.plot(np.linspace(0,len(a_whe),len(a_whe)),a_whe,label='Wheeler')\n",
    "plt.plot(np.linspace(0,len(a_wil),len(a_wil)),a_wil,label='Willenborg')\n",
    "plt.plot(np.linspace(0,len(a_clo),len(a_clo)),a_clo,label='Closure')\n",
    "plt.ylim([0.2,3])\n",
    "plt.legend()\n",
    "plt.xlabel('N (cycles)')\n",
    "plt.ylabel('a (in.)')"
   ]
  },
  {
   "cell_type": "markdown",
   "metadata": {
    "collapsed": false
   },
   "source": [
    "For these conditions, we see that the Closure model predicts only moderate retardation. The Wheeler model predicts significat retardation in crack propagation, while the Willenborg model predicts that crack growth will stop entirely."
   ]
  },
  {
   "cell_type": "code",
   "execution_count": null,
   "metadata": {
    "collapsed": true
   },
   "outputs": [],
   "source": []
  }
 ],
 "metadata": {
  "kernelspec": {
   "display_name": "Python 2",
   "language": "python",
   "name": "python2"
  },
  "language_info": {
   "codemirror_mode": {
    "name": "ipython",
    "version": 2
   },
   "file_extension": ".py",
   "mimetype": "text/x-python",
   "name": "python",
   "nbconvert_exporter": "python",
   "pygments_lexer": "ipython2",
   "version": "2.7.11"
  }
 },
 "nbformat": 4,
 "nbformat_minor": 0
}
