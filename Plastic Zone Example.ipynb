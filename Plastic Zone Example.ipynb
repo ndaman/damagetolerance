{
 "cells": [
  {
   "cell_type": "markdown",
   "metadata": {},
   "source": [
    "## Plastic Zone Size\n",
    "\n",
    "For an edge-cracked panel with a crack-length of 1 cm, a width of 6 cm, a thickness of 12 mm, and an applied stress of 20 MPa, find the stress intensity and plastic zone size, assuming a yield stress of 50 MPa."
   ]
  },
  {
   "cell_type": "markdown",
   "metadata": {},
   "source": [
    "We start by determining how \"thin\" or \"thick\" this panel is using 4.13 (we also need to calculate $K_I$ using 2.4a to find I)"
   ]
  },
  {
   "cell_type": "code",
   "execution_count": 15,
   "metadata": {
    "collapsed": false
   },
   "outputs": [
    {
     "name": "stdout",
     "output_type": "stream",
     "text": [
      "5.85073921584\n"
     ]
    }
   ],
   "source": [
    "import numpy as np\n",
    "def beta(a,w):\n",
    "    return 1.122 - 0.231*a/w + 10.55*(a/w)**2 - 21.71*(a/w)**3 + 30.82*(a/w)**4\n",
    "def KI(a,w,s):\n",
    "    return s*np.sqrt(np.pi*a)*beta(a,w)\n",
    "a = 1e-2\n",
    "w = 6e-2\n",
    "t = 15e-3\n",
    "s = 20e6\n",
    "sy = 50e6\n",
    "I = 6.7 - 1.5/t*(KI(a,w,s)/sy)**2\n",
    "print I"
   ]
  },
  {
   "cell_type": "markdown",
   "metadata": {},
   "source": [
    "Now that we have found I and the initial $K_I$, we can use 4.12 to find the plastic zone size"
   ]
  },
  {
   "cell_type": "code",
   "execution_count": 16,
   "metadata": {
    "collapsed": false
   },
   "outputs": [
    {
     "data": {
      "text/plain": [
       "0.00046204093802908473"
      ]
     },
     "execution_count": 16,
     "metadata": {},
     "output_type": "execute_result"
    }
   ],
   "source": [
    "rp = 1.0/(I*np.pi)*(KI(a,w,s)/sy)**2\n",
    "rp"
   ]
  },
  {
   "cell_type": "markdown",
   "metadata": {},
   "source": [
    "$r_p = 0.4$ mm, which gives a total plastic zone size of 0.8 mm. We now recalculate using $a_{eff}$"
   ]
  },
  {
   "cell_type": "code",
   "execution_count": 20,
   "metadata": {
    "collapsed": false
   },
   "outputs": [
    {
     "name": "stdout",
     "output_type": "stream",
     "text": [
      "0.000498070742572\n",
      "4784051.28638\n"
     ]
    }
   ],
   "source": [
    "a_eff = a + rp\n",
    "rp = 1.0/(I*np.pi)*(KI(a_eff,w,s)/sy)**2\n",
    "print rp\n",
    "print KI(a_eff,w,s)"
   ]
  },
  {
   "cell_type": "markdown",
   "metadata": {},
   "source": [
    "It is often only a small loss of accuracy to calculate $\\beta$ only once for the original crack length"
   ]
  },
  {
   "cell_type": "code",
   "execution_count": 26,
   "metadata": {
    "collapsed": true
   },
   "outputs": [],
   "source": [
    "def KI_c(a,w,s):\n",
    "    return s*np.sqrt(np.pi*a)*beta_c\n",
    "a = 1e-2\n",
    "w = 6e-2\n",
    "t = 15e-3\n",
    "s = 20e6\n",
    "sy = 50e6\n",
    "beta_c = 1.122 - 0.231*a/w + 10.55*(a/w)**2 - 21.71*(a/w)**3 + 30.82*(a/w)**4\n",
    "I = 6.7 - 1.5/t*(KI_c(a,w,s)/sy)**2\n",
    "rp = 1.0/(I*np.pi)*(KI(a,w,s)/sy)**2"
   ]
  },
  {
   "cell_type": "code",
   "execution_count": 35,
   "metadata": {
    "collapsed": false
   },
   "outputs": [
    {
     "name": "stdout",
     "output_type": "stream",
     "text": [
      "0.000498071835911\n",
      "4784056.53723\n"
     ]
    }
   ],
   "source": [
    "a_eff = a + rp\n",
    "rp = 1.0/(I*np.pi)*(KI(a_eff,w,s)/sy)**2\n",
    "print rp\n",
    "print KI(a_eff,w,s)"
   ]
  },
  {
   "cell_type": "code",
   "execution_count": null,
   "metadata": {
    "collapsed": true
   },
   "outputs": [],
   "source": []
  }
 ],
 "metadata": {
  "kernelspec": {
   "display_name": "Python 2",
   "language": "python",
   "name": "python2"
  },
  "language_info": {
   "codemirror_mode": {
    "name": "ipython",
    "version": 2
   },
   "file_extension": ".py",
   "mimetype": "text/x-python",
   "name": "python",
   "nbconvert_exporter": "python",
   "pygments_lexer": "ipython2",
   "version": "2.7.11"
  }
 },
 "nbformat": 4,
 "nbformat_minor": 0
}
