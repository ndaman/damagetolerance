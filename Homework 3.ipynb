{
 "cells": [
  {
   "cell_type": "markdown",
   "metadata": {},
   "source": [
    "## 1\n",
    "\n",
    "a. We know $\\sigma_c = 30 \\text{ ksi}$, so we substitute that into (6.1) to find $K_C$. Note that we will need to iterate to find $r_p$ for this material."
   ]
  },
  {
   "cell_type": "code",
   "execution_count": 12,
   "metadata": {
    "collapsed": false
   },
   "outputs": [
    {
     "name": "stdout",
     "output_type": "stream",
     "text": [
      "76.8722042184\n",
      "76.9466496127\n"
     ]
    }
   ],
   "source": [
    "import numpy as np\n",
    "\n",
    "sc = 30.0 #ksi\n",
    "a0 = 2.0 #in.\n",
    "sy = 100.0 #ksi\n",
    "t = 0.1 #in.\n",
    "\n",
    "KI = sc*np.sqrt(np.pi*a0)\n",
    "I = 6.7 - 1.5/t*(KI/sy)**2\n",
    "#I is less than 2, so we force 2\n",
    "if I < 2:\n",
    "    I = 2\n",
    "#This is plane stress\n",
    "rp = 1.0/(I*np.pi)*(KI/sy)**2\n",
    "aeff = a0+rp\n",
    "KI_new = sc*np.sqrt(np.pi*aeff)\n",
    "while ((KI_new-KI)/(KI))**2 > 0.00001:\n",
    "    rp = 1.0/(I*np.pi)*(KI_new/sy)**2\n",
    "    aeff = a0 + rp\n",
    "    KI = KI_new\n",
    "    KI_new = sc*np.sqrt(np.pi*aeff)\n",
    "print KI\n",
    "print KI_new"
   ]
  },
  {
   "cell_type": "markdown",
   "metadata": {},
   "source": [
    "So we find the fracture toughness, $K_C = 76.9 \\text{ ksi} \\sqrt{\\text{in.}}$.\n",
    "\n",
    "b. Since we found this to be in a state of plane stress, $K_{IC}$ is unknown, a thicker sample under plane strain conditions would need to be tested to find $K_{IC}$.\n",
    "\n",
    "c. We can use this same $K_C$ for a material with the same thickness, so we find"
   ]
  },
  {
   "cell_type": "code",
   "execution_count": 13,
   "metadata": {
    "collapsed": false
   },
   "outputs": [
    {
     "name": "stdout",
     "output_type": "stream",
     "text": [
      "20.2542851322\n"
     ]
    }
   ],
   "source": [
    "a0 = 9.0/2.0 #in\n",
    "rp = 1.0/(I*np.pi)*(KI/sy)**2\n",
    "aeff = a0+rp\n",
    "sc = KI_new/np.sqrt(np.pi*aeff)\n",
    "print sc"
   ]
  },
  {
   "cell_type": "markdown",
   "metadata": {},
   "source": [
    "We find that a remote stress of 20.3 ksi will fracture a specimen with a 9-in. crack.\n",
    "\n",
    "d. This $K_C$ is only valid for 0.1-in thick plates, so we cannot determine the fracture stress in a thicker panel.\n",
    "\n",
    "e. For a 0.1 in. center-crack we find"
   ]
  },
  {
   "cell_type": "code",
   "execution_count": 27,
   "metadata": {
    "collapsed": false
   },
   "outputs": [
    {
     "name": "stdout",
     "output_type": "stream",
     "text": [
      "168.332834507\n"
     ]
    }
   ],
   "source": [
    "a0 = 0.1/2.0 #in\n",
    "rp = 1.0/(I*np.pi)*(KI_new/sy)**2\n",
    "aeff = a0+rp\n",
    "sc = KI_new/np.sqrt(np.pi*aeff)\n",
    "print sc"
   ]
  },
  {
   "cell_type": "markdown",
   "metadata": {},
   "source": [
    "This stress is higher than the yield stress of the material, at which point LEFM are not valid, so we are unsure of the fracture stress (although we would predict general failure due to net yield at 100 ksi)."
   ]
  },
  {
   "cell_type": "markdown",
   "metadata": {},
   "source": [
    "## 2\n",
    "\n",
    "a. Here we look up the appropriate $K_C$ or $K_{IC}$ values from the tables given in the text. 1.5-in thick aluminum is considered thick enough to be in a state of plane strain, so we use $K_{IC} = 32 \\text{ ksi}\\sqrt{\\text{in.}}$ and use (2.4a) for a finite width edge-crack."
   ]
  },
  {
   "cell_type": "code",
   "execution_count": 15,
   "metadata": {
    "collapsed": false
   },
   "outputs": [
    {
     "name": "stdout",
     "output_type": "stream",
     "text": [
      "8.48363867904\n"
     ]
    }
   ],
   "source": [
    "a = 2.0 #in\n",
    "W = 8.0 #in\n",
    "KIC = 32.0 #ksi sqrt(in)\n",
    "sy = 50.0 #ksi\n",
    "t = 1.5 #in\n",
    "beta = 1.122 -0.231*a/W + 10.55*(a/W)**2 -21.71*(a/W)**3 + 30.82*(a/W)**4\n",
    "sc = KIC/(np.sqrt(np.pi*a)*beta)\n",
    "print sc"
   ]
  },
  {
   "cell_type": "markdown",
   "metadata": {},
   "source": [
    "Although for this thickness we assumed a state of plane strain, which would have a negligible plastic zone size, we can check to see if this is a valid assumption."
   ]
  },
  {
   "cell_type": "code",
   "execution_count": 16,
   "metadata": {
    "collapsed": false
   },
   "outputs": [
    {
     "name": "stdout",
     "output_type": "stream",
     "text": [
      "8.39375004618\n"
     ]
    }
   ],
   "source": [
    "I = 6.7 - 1.5/t*(KIC/sy)**2\n",
    "if I > 6.0:\n",
    "    I = 6\n",
    "#we find that we are in plane strain, check r_p\n",
    "rp = 1.0/(I*np.pi)*(KIC/sy)**2\n",
    "aeff = a+rp\n",
    "beta = 1.122 -0.231*aeff/W + 10.55*(aeff/W)**2 -21.71*(aeff/W)**3 + 30.82*(aeff/W)**4\n",
    "sc = KIC/(np.sqrt(np.pi*aeff)*beta)\n",
    "print sc"
   ]
  },
  {
   "cell_type": "markdown",
   "metadata": {},
   "source": [
    "We see that the plastic zone size has a very minimal effect, changing $\\sigma_c$ from 8.48 ksi to 8.39 ksi. This is why it is often neglected in plane strain problems.\n",
    "\n",
    "b. For an identical panel in the transverse direction, we have $K_{IC} = 29 \\text{ ksi}\\sqrt{\\text{in.}}$ we change this value and use all the same equations as in part a."
   ]
  },
  {
   "cell_type": "code",
   "execution_count": 17,
   "metadata": {
    "collapsed": false
   },
   "outputs": [
    {
     "name": "stdout",
     "output_type": "stream",
     "text": [
      "7.68829755288\n",
      "7.62131453178\n"
     ]
    }
   ],
   "source": [
    "a = 2.0 #in\n",
    "W = 8.0 #in\n",
    "KIC = 29.0 #ksi sqrt(in)\n",
    "sy = 50.0 #ksi\n",
    "t = 1.5 #in\n",
    "beta = 1.122 -0.231*a/W + 10.55*(a/W)**2 -21.71*(a/W)**3 + 30.82*(a/W)**4\n",
    "sc = KIC/(np.sqrt(np.pi*a)*beta)\n",
    "print sc\n",
    "I = 6.7 - 1.5/t*(KIC/sy)**2\n",
    "if I > 6.0:\n",
    "    I = 6\n",
    "#we find that we are in plane strain, check r_p\n",
    "rp = 1.0/(I*np.pi)*(KIC/sy)**2\n",
    "aeff = a+rp\n",
    "beta = 1.122 -0.231*aeff/W + 10.55*(aeff/W)**2 -21.71*(aeff/W)**3 + 30.82*(aeff/W)**4\n",
    "sc = KIC/(np.sqrt(np.pi*aeff)*beta)\n",
    "print sc"
   ]
  },
  {
   "cell_type": "markdown",
   "metadata": {},
   "source": [
    "For this panel, including the small plastic zone correction, we anticipate a failure stress of $\\sigma_c = 7.62$ ksi.\n",
    "\n",
    "c. This panel is thin enough to be within the plane stress/transition regime, so we look it up on the chart on page 113, where we find $K_C = 60 \\text{ ksi} \\sqrt{\\text{in.}}$. We use the same equations as before, with the new material properties and thickness for this panel"
   ]
  },
  {
   "cell_type": "code",
   "execution_count": 18,
   "metadata": {
    "collapsed": false
   },
   "outputs": [
    {
     "name": "stdout",
     "output_type": "stream",
     "text": [
      "15.9068225232\n",
      "15.5383920328\n"
     ]
    }
   ],
   "source": [
    "a = 2.0 #in\n",
    "W = 8.0 #in\n",
    "KC = 60.0 #ksi sqrt(in)\n",
    "sy = 72.0 #ksi\n",
    "t = 0.5 #in\n",
    "beta = 1.122 -0.231*a/W + 10.55*(a/W)**2 -21.71*(a/W)**3 + 30.82*(a/W)**4\n",
    "sc = KC/(np.sqrt(np.pi*a)*beta)\n",
    "print sc\n",
    "I = 6.7 - 1.5/t*(KC/sy)**2\n",
    "\n",
    "#we find that we are in the transition between plane strain and plane stress, check r_p\n",
    "rp = 1.0/(I*np.pi)*(KC/sy)**2\n",
    "aeff = a+rp\n",
    "beta = 1.122 -0.231*aeff/W + 10.55*(aeff/W)**2 -21.71*(aeff/W)**3 + 30.82*(aeff/W)**4\n",
    "sc = KC/(np.sqrt(np.pi*aeff)*beta)\n",
    "print sc"
   ]
  },
  {
   "cell_type": "markdown",
   "metadata": {},
   "source": [
    "After including the plastic zone size, we find $\\sigma_c = 15.5 \\text{ ksi}$.\n",
    "\n",
    "d. For the same panel at -65$^\\circ$F, we find $K_C = 46 \\text{ ksi} \\sqrt{\\text{in.}}$, all other parameters are the same"
   ]
  },
  {
   "cell_type": "code",
   "execution_count": 19,
   "metadata": {
    "collapsed": false
   },
   "outputs": [
    {
     "name": "stdout",
     "output_type": "stream",
     "text": [
      "12.1952306011\n",
      "12.0542145547\n"
     ]
    }
   ],
   "source": [
    "a = 2.0 #in\n",
    "W = 8.0 #in\n",
    "KC = 46.0 #ksi sqrt(in)\n",
    "sy = 72.0 #ksi\n",
    "t = 0.5 #in\n",
    "beta = 1.122 -0.231*a/W + 10.55*(a/W)**2 -21.71*(a/W)**3 + 30.82*(a/W)**4\n",
    "sc = KC/(np.sqrt(np.pi*a)*beta)\n",
    "print sc\n",
    "I = 6.7 - 1.5/t*(KC/sy)**2\n",
    "#we find that we are in the transition between plane strain and plane stress, check r_p\n",
    "rp = 1.0/(I*np.pi)*(KC/sy)**2\n",
    "aeff = a+rp\n",
    "beta = 1.122 -0.231*aeff/W + 10.55*(aeff/W)**2 -21.71*(aeff/W)**3 + 30.82*(aeff/W)**4\n",
    "sc = KC/(np.sqrt(np.pi*aeff)*beta)\n",
    "print sc"
   ]
  },
  {
   "cell_type": "markdown",
   "metadata": {},
   "source": [
    "We find that $\\sigma_c = 12.1 \\text{ ksi}$\n",
    "\n",
    "e. For this alloy of steel we find $K_C = 72 \\text{ ksi}$, substituting into the equations gives"
   ]
  },
  {
   "cell_type": "code",
   "execution_count": 20,
   "metadata": {
    "collapsed": false
   },
   "outputs": [
    {
     "name": "stdout",
     "output_type": "stream",
     "text": [
      "28.367166833\n",
      "27.9269319192\n"
     ]
    }
   ],
   "source": [
    "a = 2.0 #in\n",
    "W = 8.0 #in\n",
    "KC = 107.0 #ksi sqrt(in)\n",
    "sy = 140.0 #ksi\n",
    "t = 1.0 #in\n",
    "beta = 1.122 -0.231*a/W + 10.55*(a/W)**2 -21.71*(a/W)**3 + 30.82*(a/W)**4\n",
    "sc = KC/(np.sqrt(np.pi*a)*beta)\n",
    "print sc\n",
    "I = 6.7 - 1.5/t*(KC/sy)**2\n",
    "if I > 6:\n",
    "    I = 6\n",
    "#we find that we are in the plane strain region, check r_p\n",
    "rp = 1.0/(I*np.pi)*(KC/sy)**2\n",
    "aeff = a+rp\n",
    "beta = 1.122 -0.231*aeff/W + 10.55*(aeff/W)**2 -21.71*(aeff/W)**3 + 30.82*(aeff/W)**4\n",
    "sc = KC/(np.sqrt(np.pi*aeff)*beta)\n",
    "print sc"
   ]
  },
  {
   "cell_type": "markdown",
   "metadata": {},
   "source": [
    "Which gives $\\sigma_c = 27.9 \\text{ ksi}$."
   ]
  },
  {
   "cell_type": "markdown",
   "metadata": {},
   "source": [
    "## 3\n",
    "\n",
    "In this problem we are given load-displacement data and are tasked with using that data to create an R-Curve, and use the tangent curve method to find $K_C$ for this test. We first load the data and define material properties"
   ]
  },
  {
   "cell_type": "code",
   "execution_count": 21,
   "metadata": {
    "collapsed": false
   },
   "outputs": [
    {
     "name": "stderr",
     "output_type": "stream",
     "text": [
      "C:\\Miniconda\\lib\\site-packages\\matplotlib\\__init__.py:872: UserWarning: axes.color_cycle is deprecated and replaced with axes.prop_cycle; please use the latter.\n",
      "  warnings.warn(self.msg_depr % (key, alt_key))\n"
     ]
    },
    {
     "data": {
      "image/png": "[encoded data removed]",
      "text/plain": [
       "<matplotlib.figure.Figure at 0x1c0f78d0>"
      ]
     },
     "metadata": {},
     "output_type": "display_data"
    }
   ],
   "source": [
    "#load optimization and plotting libraries\n",
    "from scipy.optimize import minimize\n",
    "from scipy import interpolate\n",
    "from matplotlib import pyplot as plt  \n",
    "import seaborn as sb\n",
    "sb.set(font_scale=1.5)\n",
    "%matplotlib inline\n",
    "\n",
    "#load fictitious test data\n",
    "data = np.loadtxt('HW3-3.txt')\n",
    "v = data[:,0]\n",
    "P = data[:,1]\n",
    "plt.plot(v,P)\n",
    "\n",
    "#material properties (also fake)\n",
    "s_ys = 48.0 #kpsi\n",
    "B = 0.05 #in.\n",
    "W = 50.0 #in.\n",
    "E = 11000.0 #kpsi\n",
    "Y = 0.75 #in.\n",
    "nu = 0.33 #unitless"
   ]
  },
  {
   "cell_type": "markdown",
   "metadata": {},
   "source": [
    "The load-displacement curve looks reasonable and our data has been entered, so now we can use equations (6.14)-(6.16) to calculate the effective crack length at each point."
   ]
  },
  {
   "cell_type": "code",
   "execution_count": 22,
   "metadata": {
    "collapsed": true
   },
   "outputs": [],
   "source": [
    "#calculate dv/dp from the data\n",
    "dvdp = (v[1:]-v[0])/(P[1:]-P[0])\n",
    "\n",
    "#use 6.15 and 6.16 to get initial guess for a_eff\n",
    "X = 1. - np.exp(-np.sqrt((E*B*dvdp)**2-(2*Y/W)**2)/2.141)\n",
    "a_guess = W/2.*(1.2235*X-0.699032*X**2 + 3.25584*X**3 - 6.65042*X**4 + 5.54*X**5 - 1.66989*X**6)\n",
    "\n",
    "#objective function for minimization\n",
    "def myobj(x,args=(dvdp,)):\n",
    "    return (E*B*args - 2*Y/W*np.sqrt(np.pi*x/W/np.sin(np.pi*x/W))*(2*W/np.pi/Y*np.arccosh(np.cosh(np.pi*Y/W)/np.cos(np.pi*x[0]/W))-(1+nu)/np.sqrt(1+(np.sin(np.pi*x/W)/np.sinh(np.pi*Y/W))**2)+nu))**2\n",
    "\n",
    "#run minimization once for every dvdp value\n",
    "a_opt = []\n",
    "for i in range(len(a_guess)):\n",
    "    x0 = a_guess[i] #initial value\n",
    "    res = minimize(myobj,x0,method='nelder-mead',args=(dvdp[i],))\n",
    "    a_opt.append(res.x[0])\n",
    "    #print res.fun #check function value to make sure optimization was successful"
   ]
  },
  {
   "cell_type": "markdown",
   "metadata": {},
   "source": [
    "Now that we have determined the effective crack length at each point in the test, we can also calculate $K_I$ for each test point, and plot the resulting $K_R$ curve."
   ]
  },
  {
   "cell_type": "code",
   "execution_count": 23,
   "metadata": {
    "collapsed": false
   },
   "outputs": [
    {
     "data": {
      "text/plain": [
       "[<matplotlib.lines.Line2D at 0x1c5aa940>]"
      ]
     },
     "execution_count": 23,
     "metadata": {},
     "output_type": "execute_result"
    },
    {
     "data": {
      "image/png": "[encoded data removed]",
      "text/plain": [
       "<matplotlib.figure.Figure at 0x1c17c080>"
      ]
     },
     "metadata": {},
     "output_type": "display_data"
    }
   ],
   "source": [
    "#KI for center crack in finite panel\n",
    "def ki(a,W=W,B=B,P=100):  \n",
    "    return P/(B*W)*(np.pi*a)**.5*(1./np.cos(np.pi*a/W))**.5\n",
    "\n",
    "K_r = []\n",
    "for i in range(len(a_opt)):\n",
    "    K_r.append(ki(a_opt[i],W=W,B=B,P=P[i+1]))\n",
    "plt.plot(a_opt,K_r)"
   ]
  },
  {
   "cell_type": "markdown",
   "metadata": {},
   "source": [
    "Now we need to find $K_c$. We do this by finding the point of intersection for a constant-stress $K_I$ curve which is tangent to the $K_R$ curve at the point of intersection. First let's plot a few constant-stress $K_I$ curves to see what a good initial guess for the optimizer should be."
   ]
  },
  {
   "cell_type": "code",
   "execution_count": 24,
   "metadata": {
    "collapsed": false
   },
   "outputs": [
    {
     "data": {
      "text/plain": [
       "<matplotlib.text.Text at 0x3da2278>"
      ]
     },
     "execution_count": 24,
     "metadata": {},
     "output_type": "execute_result"
    },
    {
     "data": {
      "image/png": "[encoded data removed]",
      "text/plain": [
       "<matplotlib.figure.Figure at 0x1c4ceef0>"
      ]
     },
     "metadata": {},
     "output_type": "display_data"
    }
   ],
   "source": [
    "plt.figure(figsize=(12,6))\n",
    "#r-curve plot\n",
    "plt.plot(a_opt,K_r,label='$K_R$')\n",
    "#constant-stress KI-curves\n",
    "a = np.linspace(0,10)\n",
    "plt.plot(a,[ki(i,P=100) for i in a],label='$K_I(100)$')  \n",
    "plt.plot(a,[ki(i,P=150) for i in a],label='$K_I(150)$')  \n",
    "plt.plot(a,[ki(i,P=200) for i in a],label='$K_I(200)$')\n",
    "plt.legend(loc='best')\n",
    "plt.xlabel('$a_{eff}$ (in.)')\n",
    "plt.ylabel('$K$')"
   ]
  },
  {
   "cell_type": "markdown",
   "metadata": {},
   "source": [
    "We see that our initial load shoul probably be around 200 k-lbs, so we use that in the optimization"
   ]
  },
  {
   "cell_type": "code",
   "execution_count": 26,
   "metadata": {
    "collapsed": false
   },
   "outputs": [
    {
     "name": "stdout",
     "output_type": "stream",
     "text": [
      "9.83659754067\n",
      "489.893193468\n"
     ]
    }
   ],
   "source": [
    "#interpolate the kr_curve\n",
    "kr_smooth = interpolate.splrep(a_opt,K_r)\n",
    "\n",
    "#objective function for minimization\n",
    "#x is array of variables to be optimized\n",
    "def myobj(x):\n",
    "    a_crit = x[0] #critical crack length, point of intersection\n",
    "    P_crit = x[1] #critical load\n",
    "    ki_smooth = interpolate.splrep(a,[ki(i,P=P_crit) for i in a])\n",
    "    #squared difference of function values\n",
    "    d1 = (interpolate.splev(a_crit,kr_smooth,der=0)-interpolate.splev(a_crit,ki_smooth,der=0))**2\n",
    "    #squared difference of slopes (check for tangent)\n",
    "    d2 = (interpolate.splev(a_crit,kr_smooth,der=1)-interpolate.splev(a_crit,ki_smooth,der=1))**2\n",
    "    return d1 + d2\n",
    "#initial guess\n",
    "x0 = np.array([8,200])\n",
    "res = minimize(myobj,x0,method='nelder-mead')\n",
    "print res.x[0]\n",
    "print interpolate.splev(res.x[0],kr_smooth)"
   ]
  },
  {
   "cell_type": "markdown",
   "metadata": {},
   "source": [
    "We find $a_{crit}$ is 9.84 in. with $K_C = 489.9$ ksi."
   ]
  },
  {
   "cell_type": "code",
   "execution_count": null,
   "metadata": {
    "collapsed": true
   },
   "outputs": [],
   "source": []
  }
 ],
 "metadata": {
  "kernelspec": {
   "display_name": "Python 2",
   "language": "python",
   "name": "python2"
  },
  "language_info": {
   "codemirror_mode": {
    "name": "ipython",
    "version": 2
   },
   "file_extension": ".py",
   "mimetype": "text/x-python",
   "name": "python",
   "nbconvert_exporter": "python",
   "pygments_lexer": "ipython2",
   "version": "2.7.11"
  }
 },
 "nbformat": 4,
 "nbformat_minor": 0
}
