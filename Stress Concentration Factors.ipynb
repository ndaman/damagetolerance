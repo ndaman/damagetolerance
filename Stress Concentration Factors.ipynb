{
 "cells": [
  {
   "cell_type": "markdown",
   "metadata": {},
   "source": [
    "# Following are digitized figures for stress concentration factors\n",
    "\n",
    "They are taken from pp. 82-85 of the text.\n",
    "\n",
    "## Centered hole in tension\n",
    "\n",
    "For a centered hole under tension, $K_{tg}$ uses stress for the cross-sectional area if no hole was present,\n",
    "\t\t$K_{tn}$ uses stress at the net section (subtracting hole area).\n",
    "\t\t$a$ is the hole diameter, $W$ is specimen width."
   ]
  },
  {
   "cell_type": "code",
   "execution_count": 1,
   "metadata": {
    "collapsed": true
   },
   "outputs": [],
   "source": [
    "#this code is just to load the necessary libraries\n",
    "import plotly.tools as tls"
   ]
  },
  {
   "cell_type": "code",
   "execution_count": 3,
   "metadata": {
    "collapsed": false
   },
   "outputs": [
    {
     "data": {
      "text/html": [
       "<iframe id=\"igraph\" scrolling=\"no\" style=\"border:none;\" seamless=\"seamless\" src=\"https://plot.ly/~ndaman/97.embed\" height=\"525\" width=\"100%\"></iframe>"
      ],
      "text/plain": [
       "<plotly.tools.PlotlyDisplay object>"
      ]
     },
     "execution_count": 3,
     "metadata": {},
     "output_type": "execute_result"
    }
   ],
   "source": [
    "tls.embed('https://plot.ly/~ndaman/97/stress-intensity-factors-for-a-hole-p-82/')"
   ]
  },
  {
   "cell_type": "markdown",
   "metadata": {},
   "source": [
    "## Off-center hole in tension\n",
    "\n",
    "For an off-center hole under tension, we have $K_{tg}$ uses stress for the cross-sectional area if no hole was present,\n",
    "\t\t$K_{tn}$ uses stress at the net section (subtracting hole area).\n",
    "\t\t$c$ is the distance from the closest edge to the center of the hole,\n",
    "\t\t$e$ is the distance from the farthest edge to the center of the hole, $r$ is hole radius."
   ]
  },
  {
   "cell_type": "code",
   "execution_count": 4,
   "metadata": {
    "collapsed": false
   },
   "outputs": [
    {
     "data": {
      "text/html": [
       "<iframe id=\"igraph\" scrolling=\"no\" style=\"border:none;\" seamless=\"seamless\" src=\"https://plot.ly/~ndaman/122.embed\" height=\"525\" width=\"100%\"></iframe>"
      ],
      "text/plain": [
       "<plotly.tools.PlotlyDisplay object>"
      ]
     },
     "execution_count": 4,
     "metadata": {},
     "output_type": "execute_result"
    }
   ],
   "source": [
    "tls.embed('https://plot.ly/~ndaman/122/stress-concentration-for-off-center-hole-p-83/')"
   ]
  },
  {
   "cell_type": "markdown",
   "metadata": {},
   "source": [
    "## Bending of a bar with U-shaped notch\n",
    "\n",
    "For the bending of a bar with a U-shaped notch, we have the following parameters: Nominal stress used for $K_t$ is given by $\\sigma_{nom} = 6M/hd^2$\n",
    "\t\twhere $M$ is applied bending moment, $h$ is thickness, $d$ is the net-section height (height minus notch depth).\n",
    "\t\t$D$ is the height of the panel without a notch and $r$ is the notch radius."
   ]
  },
  {
   "cell_type": "code",
   "execution_count": 5,
   "metadata": {
    "collapsed": false
   },
   "outputs": [
    {
     "data": {
      "text/html": [
       "<iframe id=\"igraph\" scrolling=\"no\" style=\"border:none;\" seamless=\"seamless\" src=\"https://plot.ly/~ndaman/146.embed\" height=\"525\" width=\"100%\"></iframe>"
      ],
      "text/plain": [
       "<plotly.tools.PlotlyDisplay object>"
      ]
     },
     "execution_count": 5,
     "metadata": {},
     "output_type": "execute_result"
    }
   ],
   "source": [
    "tls.embed('https://plot.ly/~ndaman/146/k-t-text-for-bending-of-edge-notched-bar-text-p84/')"
   ]
  },
  {
   "cell_type": "markdown",
   "metadata": {},
   "source": [
    "## Tension of a stepped bar with should fillets\n",
    "For the tension of a stepped bar with shoulder fillets, we have the paraemters: $D$ is the larger width (before the step), $d$ is the width after the step.\n",
    "\t\tNominal stress is $\\sigma_{nom} = P/hd$, where $h$ is specimen thickness.\n",
    "\t\t$r$ is the fillet radius."
   ]
  },
  {
   "cell_type": "code",
   "execution_count": 6,
   "metadata": {
    "collapsed": false
   },
   "outputs": [
    {
     "data": {
      "text/html": [
       "<iframe id=\"igraph\" scrolling=\"no\" style=\"border:none;\" seamless=\"seamless\" src=\"https://plot.ly/~ndaman/138.embed\" height=\"525\" width=\"100%\"></iframe>"
      ],
      "text/plain": [
       "<plotly.tools.PlotlyDisplay object>"
      ]
     },
     "execution_count": 6,
     "metadata": {},
     "output_type": "execute_result"
    }
   ],
   "source": [
    "tls.embed('https://plot.ly/~ndaman/138/k-t-text-for-fillets-p85/')"
   ]
  },
  {
   "cell_type": "code",
   "execution_count": null,
   "metadata": {
    "collapsed": true
   },
   "outputs": [],
   "source": []
  }
 ],
 "metadata": {
  "anaconda-cloud": {},
  "kernelspec": {
   "display_name": "Python [conda root]",
   "language": "python",
   "name": "conda-root-py"
  },
  "language_info": {
   "codemirror_mode": {
    "name": "ipython",
    "version": 2
   },
   "file_extension": ".py",
   "mimetype": "text/x-python",
   "name": "python",
   "nbconvert_exporter": "python",
   "pygments_lexer": "ipython2",
   "version": "2.7.12"
  }
 },
 "nbformat": 4,
 "nbformat_minor": 1
}
